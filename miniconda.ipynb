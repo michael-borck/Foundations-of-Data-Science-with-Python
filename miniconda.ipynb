{
  "nbformat": 4,
  "nbformat_minor": 0,
  "metadata": {
    "colab": {
      "name": "miniconda.ipynb",
      "provenance": [],
      "collapsed_sections": [],
      "include_colab_link": true
    },
    "kernelspec": {
      "name": "python3",
      "display_name": "Python 3"
    }
  },
  "cells": [
    {
      "cell_type": "markdown",
      "metadata": {
        "id": "view-in-github",
        "colab_type": "text"
      },
      "source": [
        "<a href=\"https://colab.research.google.com/github/michael-borck/Foundations-of-Data-Science-with-Python/blob/main/miniconda.ipynb\" target=\"_parent\"><img src=\"https://colab.research.google.com/assets/colab-badge.svg\" alt=\"Open In Colab\"/></a>"
      ]
    },
    {
      "cell_type": "markdown",
      "source": [
        "# Miniconda"
      ],
      "metadata": {
        "id": "nfWIfnV2TW79"
      }
    },
    {
      "cell_type": "code",
      "source": [
        "# Download Miniconda installation script\n",
        "!wget https://repo.anaconda.com/miniconda/Miniconda3-latest-Linux-x86_64.sh\n",
        "\n",
        "# Make it executable\n",
        "!chmod +x Miniconda3-latest-Linux-x86_64.sh\n",
        "\n",
        "# Start installation in silent mode\n",
        "!bash ./Miniconda3-latest-Linux-x86_64.sh -b -f -p /usr/local\n",
        "\n",
        "# Make conda packages available in current environment\n",
        "import sys\n",
        "sys.path.append('/usr/local/lib/python3.7/site-packages/')"
      ],
      "metadata": {
        "id": "nr8DyZBgTV7p"
      },
      "execution_count": null,
      "outputs": []
    },
    {
      "cell_type": "markdown",
      "source": [
        "Alternative (easier?) miniconda"
      ],
      "metadata": {
        "id": "dZoZWAhLTadO"
      }
    },
    {
      "cell_type": "code",
      "source": [
        "!pip install condacolab\n",
        "import condacolab\n",
        "condacolab.install_miniconda()"
      ],
      "metadata": {
        "id": "IGJz0Y6VTZh_"
      },
      "execution_count": null,
      "outputs": []
    }
  ]
}