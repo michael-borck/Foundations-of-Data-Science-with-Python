{
 "cells": [
  {
   "cell_type": "markdown",
   "metadata": {},
   "source": [
    "# Discrete Random Variables\n",
    "\n",
    "As mentioned in {doc}`definition`, we classify random variables based on their range. The reason we do this is that the mathematical tools we use to work such random variables vary depending  on their range. We will start with the easiest type to understand, which is the discrete random variable:\n",
    "\n",
    "````{panels}\n",
    "DEFINITION\n",
    "^^^\n",
    "```{glossary}\n",
    "discrete random variable\n",
    "    A random variable is said to be a *discrete random variable* if its range is finite or countably infinite.\n",
    "```\n",
    "````\n",
    "\n",
    "If $X$ is a discrete random variable, then we can find the probability of any subset of its values by summing over them:\n",
    "\n",
    "$$\n",
    "P(X \\in A)  = \\sum_{x \\in A} P(X = x) \\mbox{ if } A \\subset \\operatorname{Range}(X),\n",
    "$$\n",
    "where we have implicity taken advantage of the fact that the sets $\\left\\{ s \\left \\vert X(s) = x \\right. \\right\\}$ are disjoint sets, as discussed in {doc}`definition`.\n",
    "\n",
    "For any Borel set, $B$, we can express $P(B)$ as a finite sum over the values of $X$ that are in $B$ and in the range of $X$, since all other values of $X$ have probability zero:\n",
    "\n",
    "$$\n",
    "P(X \\in B) = \\sum_{x \\in B \\cap \\operatorname{Range}(X)} P(X = x) \\mbox{ if } B \\in \\mathcal{B}.\n",
    "$$\n",
    "\n",
    "Since both $x$ and $P(X=x)$ are real-valued, we define a function called the probability mass function to facilitate calculating these types of probabilities:"
   ]
  },
  {
   "cell_type": "markdown",
   "metadata": {},
   "source": [
    "## Probability Mass Functions\n",
    "\n",
    "````{panels}\n",
    "DEFINITION\n",
    "^^^\n",
    "```{glossary}\n",
    "probability mass function (PMF)\n",
    "   For a discrete random variable, $X$, the *probability mass function* of $X$ is the function $p_X(x)$ such that $p_X(x) = \\operatorname{Pr}( X=x)$.\n",
    "```\n",
    "````\n",
    "\n",
    "Note that \n",
    "\n",
    "\\begin{align*}\n",
    "\\sum_{x \\in \\operatorname{Range}(X)} p_X(x) &= P\\left[ X(s) \\in \\operatorname{Range}\\left(X \\right) \\right] \\\\\n",
    "&= P\\left[\\left\\{ s \\left \\vert X(s) \\in \\operatorname{Range}\\left(X \\right) \\right.  \\right\\} \\right] \\\\\n",
    "&= P\\left[ s \\in S \\right] \\\\\n",
    "&=1,\n",
    "\\end{align*}\n",
    "\n",
    "as $x$ ranges over all possible values of $X$, the events $\\left\\{s \\left \\vert X(s)=x \\right. \\right\\}$ are mutually exclusive and form a partition S.\n",
    "\n",
    "When there is no confusion, we will drop the explicit mention of the range of $X$ and just write\n",
    "\\begin{align*}\n",
    "\\sum_{x } p_X(x) &= 1.\n",
    "\\end{align*}\n",
    "Similarly, for any set $A \\in \\operatorname{Range}(X)$, we will write\n",
    "\n",
    "$$\n",
    "P(X\\in A) = \\sum_{x\\in A} p_X(x).\n",
    "$$\n"
   ]
  },
  {
   "cell_type": "markdown",
   "metadata": {},
   "source": [
    "Given a functional definition of a random variable, we can find the probability mass function by:\n",
    "* for each value $x \\in \\operatorname{Range}(X)$, find the set of outcomes for which $X(s)=x$, which we can write as $E_x=\\left\\{ s \\left \\vert X(s) = x \\right. \\right\\}$. Then let $p_X(s) = P(E_x)$.\n",
    "* for each value of $x \\notin \\operatorname{Range}(X)$, let $p_X(s) = 0$.\n",
    "\n",
    "We illustrate this with some examples."
   ]
  },
  {
   "cell_type": "markdown",
   "metadata": {},
   "source": [
    "\n",
    "**Example 1**\n",
    "\n",
    "Find the PMF for a binary RV $X(s)$ from tossing a fair coin.  This was Example 1 in {doc}`definition`. Please refer to that example for the detailed mathematical formulation of the probability space and functional definition of the random variable. Here, I only reproduce the figure, which illustrates the sample space and the mapping of the outcomes to real values by $X(s)$:\n",
    "\n",
    "```{image} figs/binary-rv1.pdf\n",
    ":alt: Image of handwritten versions of X,Y,Z and x,y,z with upper-case letters drawn without serifs and lower-case letters drawn with curly serifs\n",
    ":width: 600px\n",
    "```\n",
    "\n",
    "From this, we see that $\\operatorname{Range}(X) = \\{ 0, 1\\}$. Hence, we calculate:\n",
    "* $p_X(0) = P\\left[ X(s) = 0 \\right] = P (\\{T\\}) = 1/2$, and\n",
    "* $p_X(1) = P\\left[ X(s) = 1 \\right] = P (\\{H\\}) = 1/2$.\n",
    "\n",
    "Then the PMF for $X$ is given by\n",
    "\n",
    "$$\n",
    "p_X(x) = \n",
    "\\begin{cases}\n",
    "\\frac 1 2, & x \\in \\{0,1\\} \\\\\n",
    "0, & \\mbox{o.w.}\n",
    "\\end{cases}.\n",
    "$$\n",
    "\n",
    "**Note that we often abbreviate \"otherwise\" in such formula as \"o.w.\".**"
   ]
  },
  {
   "cell_type": "markdown",
   "metadata": {},
   "source": [
    "When we have a very simple PMF like this, we could implement in Python it for a single value of $x$  using if statements:"
   ]
  },
  {
   "cell_type": "code",
   "execution_count": 47,
   "metadata": {},
   "outputs": [],
   "source": [
    "def p_X1(x):\n",
    "    if x == 0 or x == 1:\n",
    "        return 1/2\n",
    "    else: \n",
    "        return 0"
   ]
  },
  {
   "cell_type": "markdown",
   "metadata": {},
   "source": [
    "However, it is more useful to be able to return probabilities for a whole list or array of input values. We can use  NumPy's `piecewise()` function to provide the appropriate values by conducting these tests on a vector of values (although a single value will also still work). The call signature for `np.piecewise` is\n",
    "\n",
    "`Signature: np.piecewise(x, condlist, funclist, *args, **kw)`\n",
    "\n",
    "The `condlist` is a list of conditions, and the `funclist` is a **corresponding** list of functions. If condition $i$ from `condlist` evaluates as true for an input value, then function $i$ from `funclist` will be used to compute the output vaule. Here is how we can use it in action:"
   ]
  },
  {
   "cell_type": "code",
   "execution_count": 107,
   "metadata": {},
   "outputs": [],
   "source": [
    "def p_X(x):\n",
    "    x = np.array(x).astype(float)\n",
    "    return np.piecewise(x, [x==0, x==1], [0.5, 0.5, 0])"
   ]
  },
  {
   "cell_type": "markdown",
   "metadata": {},
   "source": [
    "Here the line `x = x.astype(float)` is required to ensure that we can return an array of float values, even if the input contains all integers"
   ]
  },
  {
   "cell_type": "markdown",
   "metadata": {},
   "source": [
    "Because PMFs generally only have values at a small subset of the reals, we use a special type of plot in which the nonzero values are drawn as sticks with balls at the values. Because of the shape of these plots, these are often called *lollipop plots*; however, these are called *stem plots* in Matplotlib. (Note that stem and leaf plots are something different). Lets plot the PMF for this random variable. As usual, we begin by importing `matplotlib.pyplot` and setting the plot  backend to render the plots inline in the notebook:"
   ]
  },
  {
   "cell_type": "code",
   "execution_count": 108,
   "metadata": {},
   "outputs": [],
   "source": [
    "import matplotlib.pyplot  as plt\n",
    "%matplotlib inline"
   ]
  },
  {
   "cell_type": "markdown",
   "metadata": {},
   "source": [
    "Now, we put the values of x in a list or vector, and the pmf values in another list or vector and call `plt.stem()`:"
   ]
  },
  {
   "cell_type": "code",
   "execution_count": 111,
   "metadata": {},
   "outputs": [
    {
     "data": {
      "text/plain": [
       "<StemContainer object of 3 artists>"
      ]
     },
     "execution_count": 111,
     "metadata": {},
     "output_type": "execute_result"
    },
    {
     "data": {
      "image/png": "[encoded data removed]",
      "text/plain": [
       "<Figure size 432x288 with 1 Axes>"
      ]
     },
     "metadata": {
      "needs_background": "light"
     },
     "output_type": "display_data"
    }
   ],
   "source": [
    "x=[0,1]\n",
    "y=p_X(x)\n",
    "plt.stem(x, y, use_line_collection=True)"
   ]
  },
  {
   "cell_type": "markdown",
   "metadata": {},
   "source": [
    "It is hard to interpret a PMF when the range of the $x$-axis is so close to the range of the random variable. However, `plt.stem()` won't show zero probability outside of the specified range. So, we can add some additional values of $x$ at -1 and 2 and set the PMF to 0 for those values.\n",
    "\n",
    "Similarly, increasing the limits on the $y$-axis make this easier to interpret. Finally, we need to add some axis labels:"
   ]
  },
  {
   "cell_type": "code",
   "execution_count": 18,
   "metadata": {},
   "outputs": [
    {
     "data": {
      "image/png": "[encoded data removed]",
      "text/plain": [
       "<Figure size 432x288 with 1 Axes>"
      ]
     },
     "metadata": {
      "needs_background": "light"
     },
     "output_type": "display_data"
    }
   ],
   "source": [
    "x=[-1, 0, 1, 2]\n",
    "PMF_x=[0, 0.5, 0.5, 0]\n",
    "plt.stem(x, PMF_x, use_line_collection=True)\n",
    "\n",
    "plt.xlim(-0.5, 1.5)\n",
    "plt.ylim(0, 0.75)\n",
    "\n",
    "plt.xlabel('$x$')\n",
    "plt.ylabel('Probability mass function $p_X(x)$');"
   ]
  },
  {
   "cell_type": "markdown",
   "metadata": {},
   "source": [
    "**Example 2**\n",
    "\n",
    "Find the PMF of the binary RV $Y$ from Example 2 of {doc}`definition` and for which the sample space and functional mapping are illustrated below:\n",
    "\n",
    "```{image} figs/binary-rv2.pdf\n",
    ":alt: \n",
    ":width: 600px\n",
    "```\n",
    "\n",
    "The range of $Y$ is the same as the range of $X$ in Example 1, $\\operatorname{Range}(Y) = \\{0, 1\\}$.  However, the sample space and mapping from outcomes to values of the random variable is different than in Example 1. From the figure, we see that\n",
    "* $p_Y(0) = P\\left[ Y(s) = 0 \\right] = P (\\{TT\\}) = 1/4$, and\n",
    "* $p_Y(1) = P\\left[ Y(s) = 1 \\right] = P (\\{HH, TH, HT \\}) = 3/4$.\n",
    "\n",
    "The PMF for $Y$ is given by\n",
    "\n",
    "$$\n",
    "p_Y(y) = \n",
    "\\begin{cases}\n",
    "\\frac 1 4, & y =0 \\\\\n",
    "\\frac 3 4, & y =1 \\\\\n",
    "0, & \\mbox{o.w.}\n",
    "\\end{cases}.\n",
    "$$"
   ]
  },
  {
   "cell_type": "markdown",
   "metadata": {},
   "source": [
    "Here is an implementation in Python:"
   ]
  },
  {
   "cell_type": "code",
   "execution_count": 113,
   "metadata": {},
   "outputs": [],
   "source": [
    "def p_Y(y):\n",
    "    y = np.array(y).astype(float)\n",
    "    return np.piecewise(y, [y == 0, y == 1], [1/4, 3/4, 0])"
   ]
  },
  {
   "cell_type": "markdown",
   "metadata": {},
   "source": [
    "Here is a plot using the same approach as we did for Example 1:"
   ]
  },
  {
   "cell_type": "code",
   "execution_count": 116,
   "metadata": {},
   "outputs": [
    {
     "data": {
      "image/png": "[encoded data removed]",
      "text/plain": [
       "<Figure size 432x288 with 1 Axes>"
      ]
     },
     "metadata": {
      "needs_background": "light"
     },
     "output_type": "display_data"
    }
   ],
   "source": [
    "y = np.arange(-1, 3)\n",
    "plt.stem(y, p_Y(y), use_line_collection=True)\n",
    "\n",
    "plt.xlim(-0.5, 1.5)\n",
    "plt.ylim(0, 1)\n",
    "\n",
    "plt.xlabel('$y$')\n",
    "plt.ylabel('Probability mass function $p_Y(y)$');"
   ]
  },
  {
   "cell_type": "markdown",
   "metadata": {},
   "source": [
    "**Example 3**\n",
    "\n",
    "Now consider the random variable $Z$ from Example 3 in {doc}`definition`. This random variable is created using the same probability space as the random variable in Example 2, but has a different range, $\\operatorname{Range}(Z) = \\{ 0,1,2\\}$. From the figure, we see that\n",
    "* $p_Z(0) = P\\left[ Z(s) = 0 \\right] = P (\\{TT\\}) = 1/4$, and\n",
    "* $p_Z(1) = P\\left[ Z(s) = 1 \\right] = P (\\{HT, TH\\}) = 1/2$, and\n",
    "* $p_Z(2) = P\\left[ Z(s) = 2 \\right] = P (\\{HH \\}) = 1/4$.\n",
    "\n",
    "Thus, the PMF of $Z$ is\n",
    "$$\n",
    "p_Z(z) = \n",
    "\\begin{cases}\n",
    "\\frac 1 4, & z \\in \\{0,2\\} \\\\\n",
    "\\frac 1 2, & z =1 \\\\\n",
    "0, & \\mbox{o.w.}\n",
    "\\end{cases}.\n",
    "$$"
   ]
  },
  {
   "cell_type": "markdown",
   "metadata": {},
   "source": [
    "A Python implemetation is "
   ]
  },
  {
   "cell_type": "code",
   "execution_count": 117,
   "metadata": {},
   "outputs": [],
   "source": [
    "def p_Z(z):\n",
    "    z = np.array(z).astype(float)\n",
    "    return np.piecewise(z, [z == 0, z == 1, z == 2], [1/4, 1/2, 1/4, 0])"
   ]
  },
  {
   "cell_type": "markdown",
   "metadata": {},
   "source": [
    "And here is the plot of the PMF of $Z$:"
   ]
  },
  {
   "cell_type": "code",
   "execution_count": 120,
   "metadata": {},
   "outputs": [
    {
     "data": {
      "image/png": "[encoded data removed]",
      "text/plain": [
       "<Figure size 432x288 with 1 Axes>"
      ]
     },
     "metadata": {
      "needs_background": "light"
     },
     "output_type": "display_data"
    }
   ],
   "source": [
    "z= np.arange(-1, 4)\n",
    "plt.stem(z, p_Z(z), use_line_collection=True)\n",
    "\n",
    "plt.xlim(-0.5, 2.5)\n",
    "plt.ylim(0, 1)\n",
    "\n",
    "plt.xlabel('$z$')\n",
    "plt.ylabel('Probability mass function $p_Z(z)$');"
   ]
  },
  {
   "cell_type": "markdown",
   "metadata": {
    "tags": []
   },
   "source": [
    "**Example 4**\n",
    "\n",
    "In this example, we show how a random variable can be formed directly from the outcomes of a random experiment. In other words, for an experiment with a numerical outcome, we can let $X(s)=s$.\n",
    "\n",
    "Create a probability space by rolling a fair 6-sided die and observing the top face. Let the event class be the power set of the sample space. Let the RV $W$ be defined by $W(s)$ for all $s \\in S$.\n",
    "\n",
    "Then $p_W(w) = P\\left[ W(s) =w \\right] = P( \\{w\\} )$ for $w \\in \\{1,2,3,4,5,6\\}$. Since this is a fair experiment, $P(\\{w\\}) = 1/6$.  \n",
    "\n",
    "The PMF for $W$ is\n",
    "$$\n",
    "p_W(w)  =\n",
    "\\begin{cases}\n",
    "\\frac{1}{6}, & w=1,2,\\dots,6 \\\\ \n",
    "0, & \\text{o.w.}\n",
    "\\end{cases}\n",
    "$$ \n"
   ]
  },
  {
   "cell_type": "markdown",
   "metadata": {},
   "source": [
    "A Python implementation is shown below:"
   ]
  },
  {
   "cell_type": "code",
   "execution_count": 129,
   "metadata": {},
   "outputs": [],
   "source": [
    "def p_W(w):\n",
    "    w = np.array(w).astype(float)\n",
    "    return np.piecewise(w, [np.isin(w, [1,2,3,4,5,6])], [1/6, 0] )"
   ]
  },
  {
   "cell_type": "markdown",
   "metadata": {},
   "source": [
    "Here I used the `np.isin()` function to check each value of the $w$ array to see if it is in the range of $W$."
   ]
  },
  {
   "cell_type": "markdown",
   "metadata": {},
   "source": [
    "Here is the plot of the PMF of W:"
   ]
  },
  {
   "cell_type": "code",
   "execution_count": 130,
   "metadata": {},
   "outputs": [
    {
     "data": {
      "image/png": "[encoded data removed]",
      "text/plain": [
       "<Figure size 432x288 with 1 Axes>"
      ]
     },
     "metadata": {
      "needs_background": "light"
     },
     "output_type": "display_data"
    }
   ],
   "source": [
    "w = np.arange(0, 8)\n",
    "plt.stem(w, p_W(w), use_line_collection = True)\n",
    "\n",
    "plt.xlim(0,7)\n",
    "plt.ylim(0,0.2)\n",
    "\n",
    "plt.xlabel('w')\n",
    "plt.ylabel('Probability mass function $p_W(w)$');"
   ]
  },
  {
   "cell_type": "markdown",
   "metadata": {},
   "source": [
    "**Example 5**\n",
    "\n",
    "Recall that discrete random variables can either have a finite range or a countably infinite range. Let's create an example of the latter. \n",
    "\n",
    "Flip a coin until heads occurs. Record the set of outcomes. Then the sample space is \n",
    "\n",
    "$$\n",
    "S = \\left\\{ H, TH, TTH, TTH, TTTH, \\ldots \\right\\}.\n",
    "$$\n",
    "It should be clear that there is no maximum number of flips until the first $H$ occurs, and it should also be intuitive that the shorter sequences are more probable than the latter ones. We know that $P(H)=P(T) = 1/2$, and the results of different flips can be assumed to be independent.  So \n",
    "\\begin{align*}\n",
    "P(H) &= \\frac 1 2 \\\\\n",
    "P(TH) &= \\left( \\frac 1 2 \\right) \\left( \\frac 1 2 \\right)  =\\frac 1 4\\\\ \n",
    "P(TTH) &= \\left( \\frac 1 2 \\right) \\left( \\frac 1 2 \\right) \\left( \\frac 1 2 \\right)   =\\frac 1 8\\\\\n",
    "\\end{align*}\n",
    "\n",
    "Let's introduce some notation. If a given sequence has $n-1$ $T$ followed by one $H$, we will write it as $T^{n-1}H$. Then \n",
    "\n",
    "$$\n",
    "P(T^{n-1}H) = \\frac{1}{2^{n}}.\n",
    "$$\n",
    "\n",
    "Let $N$ be a random variable that is equal to the number of flips until the first H occurs. Then if $n \\in \\{1,2,3,\\ldots \\}$,\n",
    "\n",
    "\\begin{align}\n",
    "P\\left[N(s) =n \\right] &= P\\left[ T^{n-1}H \\right] \\\\\n",
    "&= \\left( \\frac {1}{2} \\right)^n.\n",
    "\\end{align}\n",
    "\n",
    "The PMF of $N$ is \n",
    "\n",
    "$$\n",
    "p_N(n) = \n",
    "\\begin{cases}\n",
    "\\left( \\frac {1}{2} \\right) ^ n, & n = 1,2,3, \\ldots\\\\\n",
    "0, & \\mbox{o.w.}\n",
    "\\end{cases}\n",
    "$$"
   ]
  },
  {
   "cell_type": "markdown",
   "metadata": {},
   "source": [
    "To implement this PMF in Python, we need a way to check whether the values of a NumPy array are positive integers. The floor function $\\lfloor x \\rfloor$ returns the largest integer that is less than or equal to $x$. Then $x - \\lfloor x \\rfloor $ is the fractional part of $x$, which is zero if and only if $x$ is an integer.  We can use the `np.floor()` function to return the floor of the elements in an array, as shown below:"
   ]
  },
  {
   "cell_type": "code",
   "execution_count": 141,
   "metadata": {},
   "outputs": [
    {
     "name": "stdout",
     "output_type": "stream",
     "text": [
      "[-1.  -0.5  0.   0.5  1.   1.5  2. ] [ True False  True False  True False  True]\n"
     ]
    }
   ],
   "source": [
    "x=np.linspace(-1,2,7)\n",
    "print(x, x-np.floor(x)==0)"
   ]
  },
  {
   "cell_type": "markdown",
   "metadata": {},
   "source": [
    "We can check that the values of the array are positive like this:"
   ]
  },
  {
   "cell_type": "code",
   "execution_count": 142,
   "metadata": {},
   "outputs": [
    {
     "data": {
      "text/plain": [
       "array([False, False, False,  True,  True,  True,  True])"
      ]
     },
     "execution_count": 142,
     "metadata": {},
     "output_type": "execute_result"
    }
   ],
   "source": [
    "x>0"
   ]
  },
  {
   "cell_type": "markdown",
   "metadata": {},
   "source": [
    "Finally, we can use the Numpy function `np.logical_and()` to find the elementwise intersection of these arrays:"
   ]
  },
  {
   "cell_type": "code",
   "execution_count": 146,
   "metadata": {},
   "outputs": [
    {
     "name": "stdout",
     "output_type": "stream",
     "text": [
      "[-1.  -0.5  0.   0.5  1.   1.5  2. ] [False False False False  True False  True]\n"
     ]
    }
   ],
   "source": [
    "print(x, np.logical_and(x-np.floor(x)==0, x>0))"
   ]
  },
  {
   "cell_type": "markdown",
   "metadata": {},
   "source": [
    "Using this approach, a Python implementation of this PMF is shown below:"
   ]
  },
  {
   "cell_type": "code",
   "execution_count": 151,
   "metadata": {},
   "outputs": [],
   "source": [
    "def p_N(n):\n",
    "    n = np.array(n).astype(float)\n",
    "    return np.piecewise(n, [np.logical_and(n - np.floor(n) == 0, n > 0)], [lambda u: (1/2)**u, 0] )"
   ]
  },
  {
   "cell_type": "code",
   "execution_count": 149,
   "metadata": {},
   "outputs": [
    {
     "data": {
      "text/plain": [
       "array([0.  , 0.  , 0.  , 0.  , 0.5 , 0.  , 0.25])"
      ]
     },
     "execution_count": 149,
     "metadata": {},
     "output_type": "execute_result"
    }
   ],
   "source": [
    "p_N(x)"
   ]
  },
  {
   "cell_type": "markdown",
   "metadata": {},
   "source": [
    "Note that this function uses one new feature that I didn't mention above. That is, I did not put `(1/2)**n` in the `funclist`. The reason is that we only want to raise $1/2$ to those values of $n$ that satisfy the conditions. Those elements that satisfy the first condition will be used as an input to the first function, and we use a *lambda function* to take that input into a variable $u$ and then apply the function (after the colon)."
   ]
  },
  {
   "cell_type": "markdown",
   "metadata": {},
   "source": [
    "Because the PMF has infinite range, we can only generate the values for it and plot it over a finite subset of its range. Because the values of the PMF get small quickly, we will plot up to $n=8$."
   ]
  },
  {
   "cell_type": "code",
   "execution_count": 150,
   "metadata": {},
   "outputs": [
    {
     "data": {
      "text/plain": [
       "Text(0, 0.5, 'Probability mass function $p_N(n)$')"
      ]
     },
     "execution_count": 150,
     "metadata": {},
     "output_type": "execute_result"
    },
    {
     "data": {
      "image/png": "[encoded data removed]",
      "text/plain": [
       "<Figure size 432x288 with 1 Axes>"
      ]
     },
     "metadata": {
      "needs_background": "light"
     },
     "output_type": "display_data"
    }
   ],
   "source": [
    "import numpy as np\n",
    "n=np.arange(1, 9)\n",
    "\n",
    "plt.stem(n, p_N(n), use_line_collection = True)\n",
    "\n",
    "plt.xlabel('$n$')\n",
    "plt.ylabel('Probability mass function $p_N(n)$')"
   ]
  },
  {
   "cell_type": "markdown",
   "metadata": {},
   "source": [
    "The probability mass function is nice because\n",
    "* Its outputs are probabilities of the values that the random variable takes on.\n",
    "* It is easy to calculate the probability of a discrete random variable taking on any of a small set of values by summing over the pmf outputs for those values.\n",
    "* We know the range of the PMF is between 0 and 1 because its outputs are probabilities.\n",
    "\n",
    "However, we will find that the probability mass function is not the best or most appropriate tool in all cases:\n",
    "* It is not as convenient if we are interested in large intervals, such as if we want to evaluate $P(3 < N  \\le 100)$. A computer can evaluate this range easily, but it is not easy to calculate by hand (even with a calculator).\n",
    "* We will soon see that the pmf does not generalize to random variables for which the range is an uncountable set of values.\n",
    "\n",
    "\n",
    "Thus, we are motivated to explore other functions  that can address these last concerns. In the next section, we introduce the *cumulative distribution function (CDF)*, which instead of computing $P(X=x)$ computes the probabilities of the form $P(X \\le x)$. We will show that the CDF resolves the problems we identified with the PMF.\n",
    "\n"
   ]
  }
 ],
 "metadata": {
  "kernelspec": {
   "display_name": "Python 3 (ipykernel)",
   "language": "python",
   "name": "python3"
  },
  "language_info": {
   "codemirror_mode": {
    "name": "ipython",
    "version": 3
   },
   "file_extension": ".py",
   "mimetype": "text/x-python",
   "name": "python",
   "nbconvert_exporter": "python",
   "pygments_lexer": "ipython3",
   "version": "3.7.4"
  },
  "latex_envs": {
   "LaTeX_envs_menu_present": true,
   "autoclose": true,
   "autocomplete": true,
   "bibliofile": "biblio.bib",
   "cite_by": "apalike",
   "current_citInitial": 1,
   "eqLabelWithNumbers": true,
   "eqNumInitial": 1,
   "hotkeys": {
    "equation": "Ctrl-E",
    "itemize": "Ctrl-I"
   },
   "labels_anchors": false,
   "latex_user_defs": false,
   "report_style_numbering": false,
   "user_envs_cfg": false
  }
 },
 "nbformat": 4,
 "nbformat_minor": 4
}
