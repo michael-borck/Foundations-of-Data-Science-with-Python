{
 "cells": [
  {
   "cell_type": "markdown",
   "metadata": {},
   "source": [
    "<!-- $$p_X(x) = \\begin{cases}\\left(\\frac{1}{2}\\right)^x, & x=1,2,\\dots \\\\ 0, & \\text{o.w.} \\end{cases}$$ -->"
   ]
  },
  {
   "cell_type": "markdown",
   "metadata": {},
   "source": [
    "# Cumulative Distribution Functions\n",
    "\n",
    "We now introduce the *cumulative distribution function*. Recall that we wish to be able to assign probability to any of the Borel sets (of $\\mathbb{R}$. In addition, the Borel sets can be formed from the countable unions, intersections, and complements of intervals of the form $(-\\infty, x)$ for all real $x$. This motivates us to develop a function that assigns probabilities to all such sets. Noting that \n",
    "\n",
    "$$\n",
    "\\operatorname{Pr} \\bigl( X \\in (-\\infty, x] \\bigr) = \\operatorname{Pr} ( X \\le x),\n",
    "$$\n",
    "we define the cumulative distribution function as follows:\n",
    "\n",
    "````{panels}\n",
    "DEFINITION\n",
    "^^^\n",
    "```{glossary}\n",
    "cumulative distribution function (CDF)\n",
    "  Let $(S,\\mathcal{F},P)$ be a probability space and $X$ be a real RV on $S$. Then the **cumulative distribution function (CDF)** is the real function $F_X(x) =P (X\\le x)$. \n",
    "```\n",
    "````\n",
    "\n",
    "The cumulative distribution function may also just be called the *distribution function*.  Since distribution function evaluate to  probability measures of some related events, they inherit many of the properties of probability measures. \n",
    "\n",
    "```{warning}\n",
    "Be cautious about notation:\n",
    "* The distribution function is written as an upper-case $F$; we will soon introduce a related function written as a lower-case $f$.\n",
    "* We generally write the distribution function with a subscript that indicates which random variable it is associated with; i.e. $F_X()$ is the distribution function of the random variable $X$. Recall that random variables are written in upper-case.\n",
    "* The argument of the distribution function refers to a value that the random variable can take on. When we are not referring to a specific value, then we use the lower-case version of the random variable. Thus, we write $F_X(x)$ or $F_Z(z)$. \n",
    "* I will write CDF in upper-case letters when abbreviating cumulative distribution function to remind the reader that this refers to the function written with an upper-case $F$, like $F_X(x).\n",
    "* Some books call the CDF the probability distribution function, which they abbreviate as PDF. However, this is a source of much confusion for students when we introduce the probability density function, which is abbreviated pdf.\n",
    "```\n",
    "\n",
    "\n",
    "\n",
    "Note that if $X$ is a discrete random variable, then  \n",
    "```{math}\n",
    ":label: cdf-pmf\n",
    "F_X(x) = P(X \\le x) = \\sum_{k \\le x} p_X(k).\n",
    "```\n",
    "\n",
    "    "
   ]
  },
  {
   "cell_type": "markdown",
   "metadata": {},
   "source": [
    "\n",
    "\n",
    "We now show how to find and plot the CDFs for some of our example random variables. Let's prepare by importing some of the Python libraries we need:"
   ]
  },
  {
   "cell_type": "code",
   "execution_count": 1,
   "metadata": {},
   "outputs": [],
   "source": [
    "import numpy as np\n",
    "import matplotlib.pyplot as plt\n",
    "%matplotlib inline"
   ]
  },
  {
   "cell_type": "markdown",
   "metadata": {},
   "source": [
    "**Example 1**\n",
    "\n",
    "Consider again the binary random variable $X$ formed from flipping a fair coin. Again, refer to the illustration below for the sample space and an illustration of the random variable's mapping from outcomes to real values:\n",
    "\n",
    "\n",
    "```{image} figs/binary-rv1.pdf\n",
    ":alt: \n",
    ":width: 600px\n",
    "```"
   ]
  },
  {
   "cell_type": "markdown",
   "metadata": {},
   "source": [
    "Now we want to put regions of the form $(-\\infty, x]$ onto the number line. We want to shade in the number line corresponding to a region $(-\\infty, x]$. Since that is an infinite region, we will shade a part of it and then show that the region continues toward $-\\infty$. Also, note that the point $x$ is included in the region, so we will use a square bracket to indicate its inclusion.\n",
    "\n",
    "````{warning}\n",
    "Many people learning probability initially have trouble working with understanding and drawing different regions that we need to find the CDF.  The primary confusion arises because we may often have **two** simultaneous inequalities involving $x$. These two inequalities have the following forms:\n",
    "1. The CDF is $F_X(x) = P(X \\le x)$. Thus, **the first inquality that expresses the values of $X$ relative to some threshold value $x$.** This inequality will always be represented by a shaded arrow that points left, toward $-\\infty$. Thus, the first inequality will always be illustrated like:\n",
    "```{image} figs/cdf-region.pdf\n",
    ":alt: \n",
    ":width: 200px\n",
    "```\n",
    "2. **The second inequality is on the value of $x$ itself.** This inequality indicates what values of $x$ we are considering when determining the value of the CDF.  In terms of illustrating the shaded region that represents $X \\le x$, **the second inequality determines where we put the value $x$ on the real line.**\n",
    "\n",
    "The second inequality arises when we are trying to find the CDF because we often need to use different **cases** (in terms of values of $x$) because the region $X \\le x$ interacts with the probability of the random variable in different ways depending on the value of $x$.\n",
    "\n",
    "So the problem is two-fold for students:\n",
    "1. there are two different inequalities that are being considered simultaneously, and the meaning of each is sometimes confused, and\n",
    "2. it is confusing that we are illustrating regions like $X \\le x$ when the value of $x$ is not a specific value.\n",
    "\n",
    "It is hard to understand this from a general description -- the best approach is to see how this works out for specific examples.\n",
    "````\n",
    "\n"
   ]
  },
  {
   "cell_type": "markdown",
   "metadata": {},
   "source": [
    "For a general random variable $U$ whose values fall within some finite range, $\\operatorname{Range}(U) \\subseteq [a,b]$, our first case that we will usual consider will hold for any value of $U$ less than $a$.  Applying that to the random variable $X$ that we are considering here, our first case is for any value of $x$ less than 0.  Because this case turns out to be very simple, we will refer to it as case 0:\n",
    "\n",
    "**Case 0:** \n",
    "\n",
    "For $x<0$, we can illustrate the region $(-\\infty, x]$ as shown on the number line below:\n",
    "\n",
    "```{image} figs/binary-rv1-cdf1.pdf\n",
    ":alt: \n",
    ":width: 600px\n",
    "```\n",
    "\n",
    "Now we wish to determine the probability that $X \\in (-\\infty, x]$ when $x<0$. Note again that \n",
    "\n",
    "$$\n",
    "P\\bigl( X \\in \\left(-\\infty, x \\right] \\bigr) = P(X \\le x) = F_X(x).\n",
    "$$\n",
    "Then $F_X(x) = P\\left( \\left\\{s \\left \\vert X(s) \\le x \\right. \\right\\} \\right)$ . In other words, we wish to identify the outcomes $s$ that give us values of $X$ that are less than some value $x$, where we know that value $x$ is less than zero. \n",
    "Since the smallest value of $X(s)$ is $X(s)=0$, there are no values of $s$ that yield $X(s) \\le x$ when $x<0$, so\n",
    "\n",
    "$$\n",
    "F_X(x) = P(X \\le x) =0, ~~~ x<0.\n",
    "$$\n",
    "\n",
    "**Case 1**\n",
    "\n",
    "Next, we want to identify the next region of values of $x$ for which either \n",
    "* $F_X(x)$ will be constant (because all points in the region map back to the same outcomes in the sample space -- this will be what happens for discrete random variables, or\n",
    "* $F_X(x)$ can be represented by a single function of $x$ for all $x$ in that region -- this is what happens for continuous random variable.s\n",
    "\n",
    "To understand what we mean by all points in the region mapping back to the same outcomes in the sample space, consider the following:\n",
    "* let $A$ be the set of $ s \\in S$ such that $X(s) \\le 0$ \n",
    "* let $B$ be the set of $s in S$ such that $X(s) \\le 1/2$.\n",
    "\n",
    "These two regions are illustrated in the figure below:\n",
    "```{image} figs/binary-rv1-cdf2.pdf\n",
    ":alt: \n",
    ":width: 600px\n",
    "```\n",
    "Both these regions contain a single point in $\\operatorname{Range}(X)$; they contain $X=0$. Thus $A=B= X^{-1}(0) = T$. Moreover, this will hold for **any** value of $x$ in the range $[0,1)$.  So this yields our second value of $F(x)$:\n",
    "\n",
    "$$\n",
    "F_X(x) = P(T) = \\frac 1 2, ~~~ 0\\le x < 1.\n",
    "$$\n",
    "\n",
    "**Case 2**\n",
    "\n",
    "Now we consider the next value where $F_X(x)$ changes. If $x=1$, then $F_X(1) = P(X \\le 1) = 1$, since all of the values of $X$ are less than or equal to 1. If we take any value of $x\\ge 1$, then this will  still hold, because the region still includes the entire range of $X$, as shown in the figure below:\n",
    "```{image} figs/binary-rv1-cdf3.pdf\n",
    ":alt: \n",
    ":width: 600px\n",
    "```\n",
    "Since all values of $x\\ge 1$ contain $\\operatorname{Range}(X)$, then $X^{-1}\\bigl( \\left( -\\infty, x\\right] \\bigr) = S$. Thus,\n",
    "\n",
    "$$\n",
    "F_X(x) = P(S) = 1, ~~~ x \\ge 1.\n",
    "$$\n",
    "\n",
    "**Putting It Together:**\n",
    "\n",
    "When asked to find the CDF for a random variable, you should provide a function that returns the probability $P(X \\le x)$ for every $x \\in \\mathbb{R}$.  The function $F_X(x)$ can be specified piecewise to combine the different cases:\n",
    "$$\n",
    "F_X(x) = \n",
    "\\begin{cases}\n",
    "0, & x < 0 \\\\\n",
    "\\frac 1 2, & 0 \\le x < 1 \\\\\n",
    "1 , & x \\ge 1\n",
    "\\end{cases}.\n",
    "$$"
   ]
  },
  {
   "cell_type": "markdown",
   "metadata": {},
   "source": [
    "Next I want to present some useful techniques for evaluating and plotting distribution functions. Note first that the distribution function has exactly three values in three disjoint intervals.\n",
    "\n"
   ]
  },
  {
   "cell_type": "code",
   "execution_count": 18,
   "metadata": {},
   "outputs": [],
   "source": [
    "def F_X(x):\n",
    "    return np.piecewise(x, [x<0, np.logical_and(x>=0, x<1), x>=1], [0, 1/2, 1] )"
   ]
  },
  {
   "cell_type": "markdown",
   "metadata": {},
   "source": [
    "One part of this function requires some additional discussion. I needed to implement the condition $0 \\le x < 1$ for a NumPy array. However, because that is actually a combination of two conditions (i.e., $x \\ge 0$ and $x<1$), it cannot be implemented in a single logical command. Also, a single command like `x >=0` returns an array of Boolean values -- see below for an example:"
   ]
  },
  {
   "cell_type": "code",
   "execution_count": 23,
   "metadata": {},
   "outputs": [
    {
     "name": "stdout",
     "output_type": "stream",
     "text": [
      "[-2. -1.  0.  1.  2.] [False False  True  True  True]\n"
     ]
    }
   ],
   "source": [
    "x=np.linspace(-2,2,5)\n",
    "print (x, x>=0)"
   ]
  },
  {
   "cell_type": "markdown",
   "metadata": {},
   "source": [
    "Thus, we want to combine the Boolean values from the two conditions using an elementwise and operator -- that is the purpose of the `np.logical_and()`. "
   ]
  },
  {
   "cell_type": "markdown",
   "metadata": {},
   "source": [
    "Since $F_X(x)$ is defined for all $x \\in \\mathbb{R}$, you might think that you can just call `plt.plot()` to plot it. However, the results may not be satisfying:"
   ]
  },
  {
   "cell_type": "code",
   "execution_count": 25,
   "metadata": {},
   "outputs": [
    {
     "data": {
      "text/plain": [
       "[<matplotlib.lines.Line2D at 0x7fb701a73210>]"
      ]
     },
     "execution_count": 25,
     "metadata": {},
     "output_type": "execute_result"
    },
    {
     "data": {
      "image/png": "[encoded data removed]",
      "text/plain": [
       "<Figure size 432x288 with 1 Axes>"
      ]
     },
     "metadata": {
      "needs_background": "light"
     },
     "output_type": "display_data"
    }
   ],
   "source": [
    "x = np.linspace(-1, 2, 20)\n",
    "plt.plot(x, F_X(x) )"
   ]
  },
  {
   "cell_type": "markdown",
   "metadata": {},
   "source": [
    "The sloped lines are where `plt.plot()` has interpolated between points. We can reduce them by increasing the number of points:"
   ]
  },
  {
   "cell_type": "code",
   "execution_count": 31,
   "metadata": {},
   "outputs": [
    {
     "data": {
      "text/plain": [
       "[<matplotlib.lines.Line2D at 0x7fb70333a710>]"
      ]
     },
     "execution_count": 31,
     "metadata": {},
     "output_type": "execute_result"
    },
    {
     "data": {
      "image/png": "[encoded data removed]",
      "text/plain": [
       "<Figure size 432x288 with 1 Axes>"
      ]
     },
     "metadata": {
      "needs_background": "light"
     },
     "output_type": "display_data"
    }
   ],
   "source": [
    "x = np.linspace(-1, 2, 101)\n",
    "plt.plot(x, F_X(x) )"
   ]
  },
  {
   "cell_type": "markdown",
   "metadata": {},
   "source": [
    "However, a better way to resolve this problem is to use `plt.step()`, which changes the interpolation used by `plt.plot()`:"
   ]
  },
  {
   "cell_type": "code",
   "execution_count": 72,
   "metadata": {},
   "outputs": [
    {
     "data": {
      "image/png": "[encoded data removed]",
      "text/plain": [
       "<Figure size 432x288 with 1 Axes>"
      ]
     },
     "metadata": {
      "needs_background": "light"
     },
     "output_type": "display_data"
    }
   ],
   "source": [
    "x = np.linspace(-1, 2, 61)\n",
    "plt.step(x, F_X(x), where ='post' )\n",
    "\n",
    "plt.xlim(-1,2)\n",
    "plt.xlabel('x')\n",
    "plt.ylabel('Distribution function $F_X(x)$');"
   ]
  },
  {
   "cell_type": "markdown",
   "metadata": {},
   "source": [
    "Note that we also pass `where = 'post'` to `plt.step` this will cause the plot of the short plotting interval leading up to the points 1 and 2 to show the probabilities 0 and 1/2, respectively, because the probability is not achieved until we are at or past the values 1 and 2."
   ]
  },
  {
   "cell_type": "markdown",
   "metadata": {},
   "source": [
    "This type of function is called a *staircase function*:\n",
    "\n",
    "````{panels}\n",
    "DEFINITION\n",
    "^^^\n",
    "```{glossary}\n",
    "staircase function\n",
    "  A staircase function is a nondecreasing, piecewise constant function of its argument.\n",
    "```\n",
    "````\n",
    "\n",
    "At each point that has probability greater than 0, the CDF will have a jump, and **the height of the jump is the probability at that point**. We will see that every CDF for a discrete random variable is a staircase function."
   ]
  },
  {
   "cell_type": "markdown",
   "metadata": {},
   "source": [
    "We can also find the CDF from the PMF using {eq}`cdf-pmf`. Here was the PMF for $X$:"
   ]
  },
  {
   "cell_type": "code",
   "execution_count": 98,
   "metadata": {},
   "outputs": [],
   "source": [
    "def p_X(x):\n",
    "    x = np.array(x).astype(float)\n",
    "    return np.piecewise(x, [x==0, x==1], [0.5, 0.5, 0])"
   ]
  },
  {
   "cell_type": "markdown",
   "metadata": {},
   "source": [
    "We can find the CDF by getting the values of p_X(x) on a grid of points on the real line that span the range **and** that include all of the points in the range of $X$, evaluating the PMF at all of those values, and then using Numpy's `np.cumsum()` function to return the cumulative sum up to each point:"
   ]
  },
  {
   "cell_type": "code",
   "execution_count": 111,
   "metadata": {},
   "outputs": [
    {
     "data": {
      "image/png": "[encoded data removed]",
      "text/plain": [
       "<Figure size 432x288 with 1 Axes>"
      ]
     },
     "metadata": {
      "needs_background": "light"
     },
     "output_type": "display_data"
    }
   ],
   "source": [
    "x = np.linspace(-0.5, 1.5, int((1.5--0.5)*20)+1)\n",
    "cdf_x = np.cumsum(p_X(x))\n",
    "\n",
    "plt.step(x, cdf_x, where='post')\n",
    "\n",
    "\n",
    "plt.xlim(-1,2)\n",
    "plt.xlabel('x')\n",
    "plt.ylabel('Distribution function $F_X(x)$');"
   ]
  },
  {
   "cell_type": "markdown",
   "metadata": {},
   "source": [
    "Now, we will jump to the last two examples from the previous sections. As we progress through this material, we will use more of a mathematical approach than a graphical and intuitive approach. If you ever are confused about a result, you are encouraged to draw diagrams such as those used in Example 1 of this section."
   ]
  },
  {
   "cell_type": "markdown",
   "metadata": {},
   "source": [
    "**Example 2**\n",
    "\n",
    "Create a probability space by rolling a fair 6-sided die and observing the top face. Let the event class be the power set of the sample space. Let the RV $W$ be defined by $W(s)$ for all $s \\in S$.\n",
    "\n",
    "Then $F_W(w) = P(W \\le w)$. Since $\\operatorname{Range}(W) = \\{1,2,3,4,5,6\\}$, we know that these points will be important to find the values of the CDF. In fact, since all of the values of $W$ that have non-zero probability are in $\\operatorname{Range}(W)$, we can write\n",
    "\n",
    "\\begin{align*}\n",
    "F_W(w) & = P(W \\le w) = P\\bigl( W \\in (-\\infty, w) \\cap \\operatorname{Range}(w) \\bigr) \\\\\n",
    "& = \\sum_{k\\in \\{1,2,3,4,5,6\\} \\cap k<w} P(W=k) \\\\\n",
    "&= \\begin{cases}\n",
    "0, & w < 1 \\\\\n",
    "\\frac{\\lfloor w \\rfloor}{6}, & 1 \\le w < 6 \\\\\n",
    "1, & w \\ge 6 \n",
    "\\end{cases},\n",
    "\\end{align*}\n",
    "where $\\lfloor w \\rfloor$ denotes the *floor* of $w$, which is the largest integer that is less than or equal to $w$. Intuitively, the CDF at any points $w \\in \\{1,2,3,4,5,6\\}$ is the cumulative probability at the points up to $w$. The use of the floor function allows us to create a function that returns the proper value between the points where there are probability -- the value of the CDF between the points that have probability will be the accumulated probability up to the lower endpoint.\n",
    "\n",
    "We can again implement this function in Python, but a bit of additional care is needed because we need to evaluate the function `np.floor(w)` but we only want to evaluate that function on those values of $w$ that are in the interval $[1,6)$. To do this we use what is called a *lambda function* in the `funclist`. It takes those values of $w$ that satisfy the conditions in the `np.logical_and()` statement as input and puts them in a variable we specify; here I used, $v$. Then it applies whatever function we provide after the colon."
   ]
  },
  {
   "cell_type": "code",
   "execution_count": 103,
   "metadata": {},
   "outputs": [],
   "source": [
    "def F_W(w):\n",
    "    return np.piecewise(w, [w<1, np.logical_and(w>=1, w<6), w>=6], [0, lambda v: np.floor(v)/6, 1] )"
   ]
  },
  {
   "cell_type": "markdown",
   "metadata": {},
   "source": [
    "Here is a plot of the resulting CDF:"
   ]
  },
  {
   "cell_type": "code",
   "execution_count": 109,
   "metadata": {},
   "outputs": [
    {
     "data": {
      "image/png": "[encoded data removed]",
      "text/plain": [
       "<Figure size 432x288 with 1 Axes>"
      ]
     },
     "metadata": {
      "needs_background": "light"
     },
     "output_type": "display_data"
    }
   ],
   "source": [
    "w=np.linspace(0,8,(8-0)*20+1)\n",
    "plt.step(w, F_W(w), where ='post')\n",
    "\n",
    "plt.xlim(0, 8)\n",
    "plt.ylim(0, 1.1)\n",
    "plt.xlabel('w')\n",
    "plt.ylabel('Distribution function $F_W(w)$');\n"
   ]
  },
  {
   "cell_type": "markdown",
   "metadata": {},
   "source": [
    "We also show how to get the CDF of $W$ from its PMF:"
   ]
  },
  {
   "cell_type": "code",
   "execution_count": 105,
   "metadata": {},
   "outputs": [],
   "source": [
    "def p_W(w):\n",
    "    w = np.array(w).astype(float)\n",
    "    return np.piecewise(w, [np.isin(w, [1,2,3,4,5,6])], [1/6, 0] )"
   ]
  },
  {
   "cell_type": "code",
   "execution_count": 110,
   "metadata": {},
   "outputs": [
    {
     "data": {
      "image/png": "[encoded data removed]",
      "text/plain": [
       "<Figure size 432x288 with 1 Axes>"
      ]
     },
     "metadata": {
      "needs_background": "light"
     },
     "output_type": "display_data"
    }
   ],
   "source": [
    "w = np.linspace(0,8, (8-0)*20+1)\n",
    "cdf_w = np.cumsum(p_W(w))\n",
    "\n",
    "plt.step(w, cdf_w, where = 'post')\n",
    "\n",
    "plt.xlim(0, 8)\n",
    "plt.ylim(0, 1.1)\n",
    "plt.xlabel('w')\n",
    "plt.ylabel('Distribution function $F_W(w)$');"
   ]
  },
  {
   "cell_type": "markdown",
   "metadata": {},
   "source": [
    "**Example 3**\n",
    "\n",
    "Flip a coin until heads occurs. Let $N$ be a random variable that is equal to the number of flips until the first H occurs. \n",
    "\n",
    "I omit the mathematical derivation of the CDF as a function of $n$ and present a plot of the CDF based on applying `np.cumsum()` to the PMF:"
   ]
  },
  {
   "cell_type": "code",
   "execution_count": 112,
   "metadata": {},
   "outputs": [],
   "source": [
    "def p_N(n):\n",
    "    n = np.array(n).astype(float)\n",
    "    return np.piecewise(n, [np.logical_and(n - np.floor(n) == 0, n > 0)], [lambda u: (1/2)**u, 0] )"
   ]
  },
  {
   "cell_type": "code",
   "execution_count": 116,
   "metadata": {},
   "outputs": [
    {
     "data": {
      "image/png": "[encoded data removed]",
      "text/plain": [
       "<Figure size 432x288 with 1 Axes>"
      ]
     },
     "metadata": {
      "needs_background": "light"
     },
     "output_type": "display_data"
    }
   ],
   "source": [
    "n = np.linspace(0, 8, 20*(8-0)+1)\n",
    "cdf_n = np.cumsum(p_N(n))\n",
    "\n",
    "plt.step(n, cdf_n, where='post')\n",
    "\n",
    "plt.xlim(0,8)\n",
    "plt.xlabel('$n$')\n",
    "plt.ylabel('Distribution function $F_N(n)$');"
   ]
  },
  {
   "cell_type": "markdown",
   "metadata": {},
   "source": [
    "The CDF shows that the probability that the first heads is seen in 8 or fewer flips is over 0.99. In fact, we can easily check the last value of the vector `cdf_n`:"
   ]
  },
  {
   "cell_type": "code",
   "execution_count": 118,
   "metadata": {},
   "outputs": [
    {
     "data": {
      "text/plain": [
       "(8.0, 0.99609375)"
      ]
     },
     "execution_count": 118,
     "metadata": {},
     "output_type": "execute_result"
    }
   ],
   "source": [
    "n[-1], cdf_n[-1]"
   ]
  },
  {
   "cell_type": "markdown",
   "metadata": {},
   "source": [
    "So the probability that the first heads will be seen in 8 or fewer flips is over 0.996."
   ]
  },
  {
   "cell_type": "markdown",
   "metadata": {},
   "source": [
    "## Properties of CDFs"
   ]
  },
  {
   "cell_type": "markdown",
   "metadata": {},
   "source": [
    "**1.** $0 \\le F_X(x) \\le 1$ \n",
    "\n",
    "*Proof*: The distribution function returns a value from the probability measure of the underlying probability space.\n",
    "\n"
   ]
  },
  {
   "cell_type": "markdown",
   "metadata": {},
   "source": [
    "**2.** $F_X(-\\infty)=0$ and $F_X(\\infty)=1$ \n",
    "\n",
    "*Proof:* The proof is beyond the scope of this book. However, the basic ideas are as follows:\n",
    "\n",
    "By $F_X(-\\infty)$, we mean\n",
    "\n",
    "$$\n",
    "\\lim_{x \\rightarrow -\\infty} F_X(x).\n",
    "$$\n",
    "We can consider the events $X \\in (-\\infty, n]$ as $n$ decreases. Then the probability measure of the outcomes in $\\{s \\left \\vert X(s) \\in (-\\infty, n] \\right. \\}$ must go to zero as $n$ goes to $-\\infty$, provided that we do not allow probability at $-\\infty$. Similarly  if we consider the same events as $X$ increases, then in the limit as $n$ goes to $+\\infty$, the probability measure must go to 1 as the events cover all of the outcomes with nonzero probability (since there can be no probability at $+\\infty$.\n",
    "\n"
   ]
  },
  {
   "cell_type": "markdown",
   "metadata": {},
   "source": [
    "**3.** $F_X(x)$ is monotonically nondecreasing;\n",
    "    i.e., $F_X(a) \\le F_X(b)$ iff $a \\le b$\n",
    "    \n",
    "  \n",
    "*Proof:*\n",
    "\n",
    "\\begin{align*}\n",
    "\\operatorname{Pr}\\left\\{X \\in (- \\infty,b]\\right\\} &= \\operatorname{Pr}\\left\\{X \\in (- \\infty,a] \\cup X \\in (a, b] \\right\\}  \\\\\n",
    "& = P(X \\in (-\\infty, a])   + P( X \\in (a,b]), \\\\\n",
    "\\end{align*}\n",
    "where the last step follows from the fact that $X(s)$ is a function, and hence disjoint values in the range of $X$ must come from disjoint values in $S$. Thus,\n",
    "\n",
    "\n",
    "```{math}\n",
    ":label: distfcn1\n",
    "F_X(b) = F_X(a) + P(a <  X \\le b).\n",
    "```\n",
    "\n",
    "Since $\\operatorname{Pr}(a < X \\le b) \\ge 0$, it must be that $F_X(b) \\ge F_X(a)$.\n",
    "\n"
   ]
  },
  {
   "cell_type": "markdown",
   "metadata": {},
   "source": [
    "**4.** $P(a < X \\le b) = F_X(b)  -F_X(a)$\n",
    "\n",
    "\n",
    "*Proof:* Rewrite {eqn}`distfcn1`.\n",
    "\n"
   ]
  },
  {
   "cell_type": "markdown",
   "metadata": {},
   "source": [
    "**5.** $P(X>x) =1 - F_X(x)$\n",
    "\n",
    "*Proof:*\n",
    "\n",
    "If $A = \\left\\{s \\in S \\left \\vert X(s) \\le x \\right . \\right\\}$, then for all $X(s) >x$, it must be that $s \\in \\overline{A}$.  Similarly, if $s \\in \\overline{A}$, then it must be that $X(s)>x$; otherwise, that $s$ would have to belong to $A$.  Thus, $\\left\\{s \\in S \\left \\vert X(s) > x \\right . \\right\\}= \\overline{A}$ and $A \\cup \\overline{A} = S$, so\n",
    "\n",
    "\\begin{align*}\n",
    "P(X > x) &= P\\left(\\overline{A}\\right) = 1 -P(A)  \\\\\n",
    "&= 1- P(X \\le x)= 1- F_X(x).\n",
    "\\end{align*}\n"
   ]
  },
  {
   "cell_type": "markdown",
   "metadata": {},
   "source": [
    "**6.** When $F_X(x)$ has a jump discontinuity at a point $x=b$, then the height of the jump is $\\operatorname{Pr}(X=b)$ and $F_X(b) = F_X(b^+)$, the limiting value from the right.\n",
    "\n",
    "\n",
    "When the CDF of a random variable $X$ has a jump discontinuity, there is a value of $x$ where the CDF suddenly jumps up in value. For instance, the distribution function $F_X(x)$ shown below has a jump discontinuity at $x=0$.\n",
    "\n",
    "```{image} figs/jump-discontinuity.pdf\n",
    ":alt: \n",
    ":width: 500px\n",
    "```\n",
    "\n",
    "The height of a jump discontinuity at a point $b$ is the difference between the limit from the left, written as $F_X(b^{-})$, and the limit from the right, $F_X(b^{+})$. Then \n",
    "\n",
    "$$\n",
    "P(X=b) = F_X(b^+) - F_X(b^-).\n",
    "$$\n",
    "\n",
    "For the example shown in the figure, the CDF jumps from $F_X(0^-) \\approx 0.3$ to $F_X(0+) = 0.7$, so $P(X=0) \\approx 0.7-0.3 =0.4$.\n",
    "\n",
    "\n",
    "Since $F_X(b) = P(X \\le b)$, equality is included at $b$, and the value at the point $F_X(b) = F_X(b^+)$. For this example, $F_X(0) = 0.7$\n",
    "\n",
    "*Proof:* The proofs are outside the scope of this book."
   ]
  },
  {
   "cell_type": "markdown",
   "metadata": {},
   "source": [
    "In the following section, we introduce some common random variables, show how to create and work with such random variables using the `scipy.stats` module, and discuss their application.\n",
    "\n",
    "\n",
    "\n",
    "\n",
    "\n",
    "\n"
   ]
  },
  {
   "cell_type": "code",
   "execution_count": 138,
   "metadata": {
    "tags": [
     "remove-cell"
    ]
   },
   "outputs": [
    {
     "data": {
      "image/png": "[encoded data removed]",
      "text/plain": [
       "<Figure size 432x288 with 1 Axes>"
      ]
     },
     "metadata": {
      "needs_background": "light"
     },
     "output_type": "display_data"
    }
   ],
   "source": [
    "from scipy.stats import norm\n",
    "x1=np.linspace(-4,-1/2-1/100,350)\n",
    "x2=np.linspace(1/2,4,351)\n",
    "#plt.plot(x1+1, norm.cdf(x1))\n",
    "#plt.plot(x2-1, norm.cdf(x2))\n",
    "x=np.hstack((x1+0.5,x2-0.5))\n",
    "y=np.hstack((norm.cdf(x1), norm.cdf(x2)) )\n",
    "plt.plot(x,y);\n",
    "plt.xlabel('$x$');\n",
    "plt.ylabel('Distribution function $F_X(x)$')\n",
    "plt.grid()\n",
    "plt.savefig('jump-discontinuity.pdf')"
   ]
  },
  {
   "cell_type": "code",
   "execution_count": null,
   "metadata": {},
   "outputs": [],
   "source": []
  }
 ],
 "metadata": {
  "kernelspec": {
   "display_name": "Python 3 (ipykernel)",
   "language": "python",
   "name": "python3"
  },
  "language_info": {
   "codemirror_mode": {
    "name": "ipython",
    "version": 3
   },
   "file_extension": ".py",
   "mimetype": "text/x-python",
   "name": "python",
   "nbconvert_exporter": "python",
   "pygments_lexer": "ipython3",
   "version": "3.7.4"
  },
  "latex_envs": {
   "LaTeX_envs_menu_present": true,
   "autoclose": true,
   "autocomplete": true,
   "bibliofile": "biblio.bib",
   "cite_by": "apalike",
   "current_citInitial": 1,
   "eqLabelWithNumbers": true,
   "eqNumInitial": 1,
   "hotkeys": {
    "equation": "Ctrl-E",
    "itemize": "Ctrl-I"
   },
   "labels_anchors": false,
   "latex_user_defs": false,
   "report_style_numbering": false,
   "user_envs_cfg": false
  }
 },
 "nbformat": 4,
 "nbformat_minor": 4
}
