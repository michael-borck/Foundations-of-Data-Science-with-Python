{
 "cells": [
  {
   "cell_type": "markdown",
   "metadata": {},
   "source": [
    "# Outline of Remaining Sections\n",
    "## Important Continuous Random Variables and Their Applications\n",
    "## The Central Limit Theorem and Gaussian Random Variables\n",
    "<!-- ## Generating, Simulating, and Characterizing Continuous Random Variables (including\n",
    " -->\n",
    "## Histograms of Continuous Random Variables and Kernel Density Estimation\n",
    "## Introduction to Conditioning with Random Variables\n",
    "<!-- ## Generative Classification JMS NOTE: Maybe some day-->\n",
    "## Review\n",
    "## Summary\n",
    "\n",
    "\n"
   ]
  },
  {
   "cell_type": "code",
   "execution_count": null,
   "metadata": {},
   "outputs": [],
   "source": []
  }
 ],
 "metadata": {
  "kernelspec": {
   "display_name": "Python 3 (ipykernel)",
   "language": "python",
   "name": "python3"
  },
  "language_info": {
   "codemirror_mode": {
    "name": "ipython",
    "version": 3
   },
   "file_extension": ".py",
   "mimetype": "text/x-python",
   "name": "python",
   "nbconvert_exporter": "python",
   "pygments_lexer": "ipython3",
   "version": "3.7.4"
  }
 },
 "nbformat": 4,
 "nbformat_minor": 4
}
