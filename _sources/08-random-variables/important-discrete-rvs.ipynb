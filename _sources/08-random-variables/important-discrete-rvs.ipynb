{
 "cells": [
  {
   "cell_type": "markdown",
   "metadata": {},
   "source": [
    "# Important Discrete RVs\n",
    "\n",
    "There are several types of discrete random variables that commonly arise in statistics and engineering applications. We review the most common ones below. We also show how to use the `scipy.stats` module to generate these random variables and work with the various functions that characterize the probability of these random variables. SciPy provides implementations of more than 80 common types of random variables, including 19 types of discrete random variables (as of SciPy 1.7.3). To prepare for our use of `scipy.stats` we will import it as `stats`:"
   ]
  },
  {
   "cell_type": "code",
   "execution_count": 1,
   "metadata": {},
   "outputs": [],
   "source": [
    "import scipy.stats as stats"
   ]
  },
  {
   "cell_type": "markdown",
   "metadata": {},
   "source": [
    "We will also use NumPy to create various input ranges and Matplotlib to visualize various functions:"
   ]
  },
  {
   "cell_type": "code",
   "execution_count": 2,
   "metadata": {},
   "outputs": [],
   "source": [
    "import matplotlib.pyplot as plt\n",
    "import numpy as np\n",
    "\n",
    "%matplotlib inline"
   ]
  },
  {
   "cell_type": "markdown",
   "metadata": {},
   "source": [
    "## Discrete Uniform Random Variable\n",
    "\n",
    "In much of our previous work on probability we have considered fair experiments, where the experiment has a finite set of outcomes, all of which are equally likely.  Here we extend this idea to a random variable:\n",
    "\n",
    "\n",
    "````{panels}\n",
    ":column: col-lg-12\n",
    "\n",
    "DEFINITION\n",
    "^^^\n",
    "```{glossary}\n",
    "discrete uniform random variable\n",
    "    A random variable that has a finite number of values in its range \n",
    "    and for which all of its values have the same probability.\n",
    "```\n",
    "````\n"
   ]
  },
  {
   "cell_type": "markdown",
   "metadata": {},
   "source": [
    "For example, if we roll a fair die and let $X$ be the number on the top face, then $X$ is a discrete uniform random variable with\n",
    "\n",
    "$$\n",
    "P_X(x) = \n",
    "\\begin{cases}\n",
    "1/6, & x \\in \\{1,2,3,4,5,6\\} \\\\\n",
    "0, & \\mbox{o.w.}\n",
    "\\end{cases}\n",
    "$$\n",
    "\n",
    "We can create a discrete uniform random variable in `scipy.stats` using `stats.randint()`:"
   ]
  },
  {
   "cell_type": "code",
   "execution_count": 3,
   "metadata": {
    "tags": [
     "remove-output"
    ]
   },
   "outputs": [
    {
     "data": {
      "text/plain": [
       "\u001b[0;31mSignature:\u001b[0m       \u001b[0mstats\u001b[0m\u001b[0;34m.\u001b[0m\u001b[0mrandint\u001b[0m\u001b[0;34m(\u001b[0m\u001b[0;34m*\u001b[0m\u001b[0margs\u001b[0m\u001b[0;34m,\u001b[0m \u001b[0;34m**\u001b[0m\u001b[0mkwds\u001b[0m\u001b[0;34m)\u001b[0m\u001b[0;34m\u001b[0m\u001b[0;34m\u001b[0m\u001b[0m\n",
       "\u001b[0;31mType:\u001b[0m            randint_gen\n",
       "\u001b[0;31mString form:\u001b[0m     <scipy.stats._discrete_distns.randint_gen object at 0x7fda5b3ed250>\n",
       "\u001b[0;31mFile:\u001b[0m            /Applications/anaconda3/lib/python3.7/site-packages/scipy/stats/_discrete_distns.py\n",
       "\u001b[0;31mDocstring:\u001b[0m      \n",
       "A uniform discrete random variable.\n",
       "\n",
       "As an instance of the `rv_discrete` class, `randint` object inherits from it\n",
       "a collection of generic methods (see below for the full list),\n",
       "and completes them with details specific for this particular distribution.\n",
       "\n",
       "Methods\n",
       "-------\n",
       "rvs(low, high, loc=0, size=1, random_state=None)\n",
       "    Random variates.\n",
       "pmf(k, low, high, loc=0)\n",
       "    Probability mass function.\n",
       "logpmf(k, low, high, loc=0)\n",
       "    Log of the probability mass function.\n",
       "cdf(k, low, high, loc=0)\n",
       "    Cumulative distribution function.\n",
       "logcdf(k, low, high, loc=0)\n",
       "    Log of the cumulative distribution function.\n",
       "sf(k, low, high, loc=0)\n",
       "    Survival function  (also defined as ``1 - cdf``, but `sf` is sometimes more accurate).\n",
       "logsf(k, low, high, loc=0)\n",
       "    Log of the survival function.\n",
       "ppf(q, low, high, loc=0)\n",
       "    Percent point function (inverse of ``cdf`` --- percentiles).\n",
       "isf(q, low, high, loc=0)\n",
       "    Inverse survival function (inverse of ``sf``).\n",
       "stats(low, high, loc=0, moments='mv')\n",
       "    Mean('m'), variance('v'), skew('s'), and/or kurtosis('k').\n",
       "entropy(low, high, loc=0)\n",
       "    (Differential) entropy of the RV.\n",
       "expect(func, args=(low, high), loc=0, lb=None, ub=None, conditional=False)\n",
       "    Expected value of a function (of one argument) with respect to the distribution.\n",
       "median(low, high, loc=0)\n",
       "    Median of the distribution.\n",
       "mean(low, high, loc=0)\n",
       "    Mean of the distribution.\n",
       "var(low, high, loc=0)\n",
       "    Variance of the distribution.\n",
       "std(low, high, loc=0)\n",
       "    Standard deviation of the distribution.\n",
       "interval(alpha, low, high, loc=0)\n",
       "    Endpoints of the range that contains fraction alpha [0, 1] of the\n",
       "    distribution\n",
       "\n",
       "Notes\n",
       "-----\n",
       "The probability mass function for `randint` is:\n",
       "\n",
       ".. math::\n",
       "\n",
       "    f(k) = \\frac{1}{\\texttt{high} - \\texttt{low}}\n",
       "\n",
       "for :math:`k \\in \\{\\texttt{low}, \\dots, \\texttt{high} - 1\\}`.\n",
       "\n",
       "`randint` takes :math:`\\texttt{low}` and :math:`\\texttt{high}` as shape\n",
       "parameters.\n",
       "\n",
       "The probability mass function above is defined in the \"standardized\" form.\n",
       "To shift distribution use the ``loc`` parameter.\n",
       "Specifically, ``randint.pmf(k, low, high, loc)`` is identically\n",
       "equivalent to ``randint.pmf(k - loc, low, high)``.\n",
       "\n",
       "Examples\n",
       "--------\n",
       ">>> from scipy.stats import randint\n",
       ">>> import matplotlib.pyplot as plt\n",
       ">>> fig, ax = plt.subplots(1, 1)\n",
       "\n",
       "Calculate the first four moments:\n",
       "\n",
       ">>> low, high = 7, 31\n",
       ">>> mean, var, skew, kurt = randint.stats(low, high, moments='mvsk')\n",
       "\n",
       "Display the probability mass function (``pmf``):\n",
       "\n",
       ">>> x = np.arange(randint.ppf(0.01, low, high),\n",
       "...               randint.ppf(0.99, low, high))\n",
       ">>> ax.plot(x, randint.pmf(x, low, high), 'bo', ms=8, label='randint pmf')\n",
       ">>> ax.vlines(x, 0, randint.pmf(x, low, high), colors='b', lw=5, alpha=0.5)\n",
       "\n",
       "Alternatively, the distribution object can be called (as a function)\n",
       "to fix the shape and location. This returns a \"frozen\" RV object holding\n",
       "the given parameters fixed.\n",
       "\n",
       "Freeze the distribution and display the frozen ``pmf``:\n",
       "\n",
       ">>> rv = randint(low, high)\n",
       ">>> ax.vlines(x, 0, rv.pmf(x), colors='k', linestyles='-', lw=1,\n",
       "...         label='frozen pmf')\n",
       ">>> ax.legend(loc='best', frameon=False)\n",
       ">>> plt.show()\n",
       "\n",
       "Check accuracy of ``cdf`` and ``ppf``:\n",
       "\n",
       ">>> prob = randint.cdf(x, low, high)\n",
       ">>> np.allclose(x, randint.ppf(prob, low, high))\n",
       "True\n",
       "\n",
       "Generate random numbers:\n",
       "\n",
       ">>> r = randint.rvs(low, high, size=1000)\n",
       "\u001b[0;31mClass docstring:\u001b[0m\n",
       "A uniform discrete random variable.\n",
       "\n",
       "%(before_notes)s\n",
       "\n",
       "Notes\n",
       "-----\n",
       "The probability mass function for `randint` is:\n",
       "\n",
       ".. math::\n",
       "\n",
       "    f(k) = \\frac{1}{\\texttt{high} - \\texttt{low}}\n",
       "\n",
       "for :math:`k \\in \\{\\texttt{low}, \\dots, \\texttt{high} - 1\\}`.\n",
       "\n",
       "`randint` takes :math:`\\texttt{low}` and :math:`\\texttt{high}` as shape\n",
       "parameters.\n",
       "\n",
       "%(after_notes)s\n",
       "\n",
       "%(example)s\n",
       "\u001b[0;31mCall docstring:\u001b[0m \n",
       "Freeze the distribution for the given arguments.\n",
       "\n",
       "Parameters\n",
       "----------\n",
       "arg1, arg2, arg3,... : array_like\n",
       "    The shape parameter(s) for the distribution.  Should include all\n",
       "    the non-optional arguments, may include ``loc`` and ``scale``.\n",
       "\n",
       "Returns\n",
       "-------\n",
       "rv_frozen : rv_frozen instance\n",
       "    The frozen distribution.\n"
      ]
     },
     "metadata": {},
     "output_type": "display_data"
    }
   ],
   "source": [
    "?stats.randint"
   ]
  },
  {
   "cell_type": "markdown",
   "metadata": {},
   "source": [
    "That help is long and complete, and it will be up-to-date with the latest version of `scipy.stats`. However, it is much more practical to refer to the web page [scipy.stats.randint](https://docs.scipy.org/doc/scipy/reference/generated/scipy.stats.randint.html). I have included an image of the most important part below:\n",
    "\n",
    "![](figs/scipy-stats-randint.png)\n"
   ]
  },
  {
   "cell_type": "markdown",
   "metadata": {},
   "source": [
    "We specify the values that the random variable will take on by specifying `low` and `high` values. As in most Python functions, the actual values that the random variable will take on will not include `high`; the actual highest value is `high - 1`.\n",
    "\n",
    "Now let's see how to create and work with the discrete uniform distribution in Python."
   ]
  },
  {
   "cell_type": "markdown",
   "metadata": {},
   "source": [
    "We will use an object-oriented (OO) approach in working with distributions in `scipy.stats`; however, you will not need to have any background in OO programming to understand this. Basically, we will create an object with the desired distribution by calling the specified `scipy.stats` random variable type with the desired distribution parameters as the argument, and we will assign the output to a variable. \n",
    "\n",
    "So, to create a random variable that represents the value on the top face when rolling a fair 6-sided die. It is convention to use $U$ for such a random variable if that does not conflict with other random variables' names. In Python, we can create an object to model this random variable like:"
   ]
  },
  {
   "cell_type": "code",
   "execution_count": 4,
   "metadata": {},
   "outputs": [],
   "source": [
    "U = stats.randint(1, 7)"
   ]
  },
  {
   "cell_type": "markdown",
   "metadata": {},
   "source": [
    "Alternatively, we can pass `low` and `high` as keyword parameters if we want to be more explicit:"
   ]
  },
  {
   "cell_type": "code",
   "execution_count": 5,
   "metadata": {},
   "outputs": [],
   "source": [
    "U = stats.randint(low=1, high=7)"
   ]
  },
  {
   "cell_type": "markdown",
   "metadata": {},
   "source": [
    "U is an *object*, and it has *methods* to work with the discrete uniform random variable with the given parameters. **Methods are just like functions, except that they belong to an object, and their behavior is affected by the internal attributes (i.e., properties) of the object.**\n",
    "\n",
    "For instance, when we created `U`, we set its attributes were set to generate a values from 1 to 6 (inclusive).  You can use Python's help function to see the methods of `U`:"
   ]
  },
  {
   "cell_type": "code",
   "execution_count": 6,
   "metadata": {
    "tags": []
   },
   "outputs": [
    {
     "name": "stdout",
     "output_type": "stream",
     "text": [
      "Help on rv_frozen in module scipy.stats._distn_infrastructure object:\n",
      "\n",
      "class rv_frozen(builtins.object)\n",
      " |  rv_frozen(dist, *args, **kwds)\n",
      " |  \n",
      " |  # Frozen RV class\n",
      " |  \n",
      " |  Methods defined here:\n",
      " |  \n",
      " |  __init__(self, dist, *args, **kwds)\n",
      " |      Initialize self.  See help(type(self)) for accurate signature.\n",
      " |  \n",
      " |  cdf(self, x)\n",
      " |  \n",
      " |  entropy(self)\n",
      " |  \n",
      " |  expect(self, func=None, lb=None, ub=None, conditional=False, **kwds)\n",
      " |  \n",
      " |  interval(self, alpha)\n",
      " |  \n",
      " |  isf(self, q)\n",
      " |  \n",
      " |  logcdf(self, x)\n",
      " |  \n",
      " |  logpdf(self, x)\n",
      " |  \n",
      " |  logpmf(self, k)\n",
      " |  \n",
      " |  logsf(self, x)\n",
      " |  \n",
      " |  mean(self)\n",
      " |  \n",
      " |  median(self)\n",
      " |  \n",
      " |  moment(self, n)\n",
      " |  \n",
      " |  pdf(self, x)\n",
      " |  \n",
      " |  pmf(self, k)\n",
      " |  \n",
      " |  ppf(self, q)\n",
      " |  \n",
      " |  rvs(self, size=None, random_state=None)\n",
      " |  \n",
      " |  sf(self, x)\n",
      " |  \n",
      " |  stats(self, moments='mv')\n",
      " |  \n",
      " |  std(self)\n",
      " |  \n",
      " |  support(self)\n",
      " |  \n",
      " |  var(self)\n",
      " |  \n",
      " |  ----------------------------------------------------------------------\n",
      " |  Data descriptors defined here:\n",
      " |  \n",
      " |  __dict__\n",
      " |      dictionary for instance variables (if defined)\n",
      " |  \n",
      " |  __weakref__\n",
      " |      list of weak references to the object (if defined)\n",
      " |  \n",
      " |  random_state\n",
      "\n"
     ]
    }
   ],
   "source": [
    "help(U)"
   ]
  },
  {
   "cell_type": "markdown",
   "metadata": {},
   "source": [
    "A few of these should look familiar: pmf, cdf, and sf refer to the same functions that we abbreviated in {doc}`discrete-rvs` and {doc}`cdfs`: the probability mass function, cumulative distribution function, and survival function, respectively. Each of the methods can be called by adding it to the object name after a period, followed by parentheses. Any parameters or values for the method should be given in the parentheses. "
   ]
  },
  {
   "cell_type": "markdown",
   "metadata": {},
   "source": [
    "We can get the interval containing the range of a random variable in `scipy.stats` using the support method:"
   ]
  },
  {
   "cell_type": "code",
   "execution_count": 7,
   "metadata": {},
   "outputs": [
    {
     "data": {
      "text/plain": [
       "(1, 6)"
      ]
     },
     "execution_count": 7,
     "metadata": {},
     "output_type": "execute_result"
    }
   ],
   "source": [
    "U.support()"
   ]
  },
  {
   "cell_type": "markdown",
   "metadata": {},
   "source": [
    "```{warning}\n",
    "\n",
    "Note that `support` returns the lowest value in the range and the highest value in the range, so be careful in using this method. If these values were used as arguments to create a new `stats.randint` object, that object would have a different range!  \n",
    "```"
   ]
  },
  {
   "cell_type": "markdown",
   "metadata": {},
   "source": [
    "We can evaluate the PMF at any value:"
   ]
  },
  {
   "cell_type": "code",
   "execution_count": 8,
   "metadata": {},
   "outputs": [
    {
     "data": {
      "text/plain": [
       "0.16666666666666666"
      ]
     },
     "execution_count": 8,
     "metadata": {},
     "output_type": "execute_result"
    }
   ],
   "source": [
    "U.pmf(3)"
   ]
  },
  {
   "cell_type": "markdown",
   "metadata": {},
   "source": [
    "Note that these methods can also take lists or vectors as their arguments:"
   ]
  },
  {
   "cell_type": "code",
   "execution_count": 9,
   "metadata": {},
   "outputs": [
    {
     "data": {
      "text/plain": [
       "array([0.16666667, 0.16666667, 0.16666667, 0.16666667, 0.16666667,\n",
       "       0.16666667])"
      ]
     },
     "execution_count": 9,
     "metadata": {},
     "output_type": "execute_result"
    }
   ],
   "source": [
    "uvals = np.arange(1, 7)\n",
    "U.pmf(uvals)"
   ]
  },
  {
   "cell_type": "markdown",
   "metadata": {},
   "source": [
    "Let's plot the PMF for this random variable:"
   ]
  },
  {
   "cell_type": "code",
   "execution_count": 10,
   "metadata": {},
   "outputs": [
    {
     "data": {
      "image/png": "[encoded data removed]",
      "text/plain": [
       "<Figure size 432x288 with 1 Axes>"
      ]
     },
     "metadata": {
      "needs_background": "light"
     },
     "output_type": "display_data"
    }
   ],
   "source": [
    "plt.stem(uvals, U.pmf(uvals), use_line_collection=True)\n",
    "plt.xlabel(\"u\")\n",
    "plt.ylabel(\"Probability mass function $P_U(u)$\");"
   ]
  },
  {
   "cell_type": "markdown",
   "metadata": {},
   "source": [
    "We can use the `rvs` method to draw random values from this random variable. The argument is the number of random values to generate:"
   ]
  },
  {
   "cell_type": "code",
   "execution_count": 11,
   "metadata": {},
   "outputs": [
    {
     "name": "stdout",
     "output_type": "stream",
     "text": [
      "[2 3 4 5 3 4 5 5 3 6 2 5 2 2 1 1 2 2 5 1]\n"
     ]
    }
   ],
   "source": [
    "num_sims = 10_000\n",
    "u = U.rvs(num_sims)\n",
    "print(u[:20])"
   ]
  },
  {
   "cell_type": "markdown",
   "metadata": {},
   "source": [
    "Let's use `plt.hist` to see if the relative frequencies are approximately equal:"
   ]
  },
  {
   "cell_type": "code",
   "execution_count": 12,
   "metadata": {},
   "outputs": [
    {
     "data": {
      "text/plain": [
       "(array([1734.,    0., 1665.,    0., 1618.,    0., 1680.,    0., 1659.,\n",
       "        1644.]),\n",
       " array([1. , 1.5, 2. , 2.5, 3. , 3.5, 4. , 4.5, 5. , 5.5, 6. ]),\n",
       " <a list of 10 Patch objects>)"
      ]
     },
     "execution_count": 12,
     "metadata": {},
     "output_type": "execute_result"
    },
    {
     "data": {
      "image/png": "[encoded data removed]",
      "text/plain": [
       "<Figure size 432x288 with 1 Axes>"
      ]
     },
     "metadata": {
      "needs_background": "light"
     },
     "output_type": "display_data"
    }
   ],
   "source": [
    "plt.hist(u)"
   ]
  },
  {
   "cell_type": "markdown",
   "metadata": {},
   "source": [
    "The look to have equal counts but have a strange spacing. That is because `plt.hist()` by default has 10 bins, whereas the data only takes on 6 values. We will get much better results if we specify the bins. For discrete random variables with a contiguous set of integer values, specifying the number of bins may work out:"
   ]
  },
  {
   "cell_type": "code",
   "execution_count": 13,
   "metadata": {},
   "outputs": [
    {
     "data": {
      "image/png": "[encoded data removed]",
      "text/plain": [
       "<Figure size 432x288 with 1 Axes>"
      ]
     },
     "metadata": {
      "needs_background": "light"
     },
     "output_type": "display_data"
    }
   ],
   "source": [
    "counts, mybins, patches = plt.hist(u, bins=6)"
   ]
  },
  {
   "cell_type": "markdown",
   "metadata": {},
   "source": [
    "However, look at the set of bin edges returned: "
   ]
  },
  {
   "cell_type": "code",
   "execution_count": 14,
   "metadata": {},
   "outputs": [
    {
     "name": "stdout",
     "output_type": "stream",
     "text": [
      "[1.         1.83333333 2.66666667 3.5        4.33333333 5.16666667\n",
      " 6.        ]\n"
     ]
    }
   ],
   "source": [
    "print(mybins)"
   ]
  },
  {
   "cell_type": "markdown",
   "metadata": {},
   "source": [
    "In general, it is safest to specify the exact bin edges to use. But again, we must be careful in dealing with the upper value, and this time doubly so. When providing a list of bin edges, they `plt.hist` interprets them as follows:\n",
    "\n",
    "       **bins** : *array* \n",
    "            The edges of the bins. Length nbins + 1 (nbins left edges and right edge of last bin). \n",
    "            \n",
    "For the last bin, we need to provide the value 6 as the left edge, and we need to provide another higher value (say, 7) as the right edge. Since a `range` or `np.arange` does not include its last value, we will need to specify a value 1 higher than 7:"
   ]
  },
  {
   "cell_type": "code",
   "execution_count": 15,
   "metadata": {},
   "outputs": [
    {
     "data": {
      "text/plain": [
       "[1, 2, 3, 4, 5, 6, 7]"
      ]
     },
     "execution_count": 15,
     "metadata": {},
     "output_type": "execute_result"
    }
   ],
   "source": [
    "newbins = range(1, 8)\n",
    "list(newbins)"
   ]
  },
  {
   "cell_type": "code",
   "execution_count": 16,
   "metadata": {},
   "outputs": [
    {
     "data": {
      "text/plain": [
       "(array([1734., 1665., 1618., 1680., 1659., 1644.]),\n",
       " array([1, 2, 3, 4, 5, 6, 7]),\n",
       " <a list of 6 Patch objects>)"
      ]
     },
     "execution_count": 16,
     "metadata": {},
     "output_type": "execute_result"
    },
    {
     "data": {
      "image/png": "[encoded data removed]",
      "text/plain": [
       "<Figure size 432x288 with 1 Axes>"
      ]
     },
     "metadata": {
      "needs_background": "light"
     },
     "output_type": "display_data"
    }
   ],
   "source": [
    "plt.hist(u, bins=newbins)"
   ]
  },
  {
   "cell_type": "markdown",
   "metadata": {},
   "source": [
    "When working with discrete random variables, we can get the relative frequencies from `plt.hist()` by passing the `density=True` keyword argument, **provided the random variable is defined on the integers and bins of length 1 are used**."
   ]
  },
  {
   "cell_type": "code",
   "execution_count": 17,
   "metadata": {},
   "outputs": [
    {
     "data": {
      "image/png": "[encoded data removed]",
      "text/plain": [
       "<Figure size 432x288 with 1 Axes>"
      ]
     },
     "metadata": {
      "needs_background": "light"
     },
     "output_type": "display_data"
    }
   ],
   "source": [
    "plt.hist(u, bins=newbins, density=True)\n",
    "plt.xlabel(\"$u$\")\n",
    "plt.ylabel(\"$P_U(u)$\");"
   ]
  },
  {
   "cell_type": "markdown",
   "metadata": {},
   "source": [
    "As expected, the relative frequencies match the PMF values closely."
   ]
  },
  {
   "cell_type": "markdown",
   "metadata": {},
   "source": [
    "Next, we plot the CDF. Since the CDF takes on nonzero values in between the values the random variable takes on, we will plot it for a finer mesh of $u$ values:"
   ]
  },
  {
   "cell_type": "code",
   "execution_count": 18,
   "metadata": {},
   "outputs": [
    {
     "data": {
      "text/plain": [
       "Text(0, 0.5, '$F_U(u)$')"
      ]
     },
     "execution_count": 18,
     "metadata": {},
     "output_type": "execute_result"
    },
    {
     "data": {
      "image/png": "[encoded data removed]",
      "text/plain": [
       "<Figure size 432x288 with 1 Axes>"
      ]
     },
     "metadata": {
      "needs_background": "light"
     },
     "output_type": "display_data"
    }
   ],
   "source": [
    "uvals2 = np.linspace(0, 6, 61)\n",
    "plt.step(uvals2, U.cdf(uvals2), where=\"post\")\n",
    "\n",
    "plt.xlabel(\"$u$\")\n",
    "plt.ylabel(\"$F_U(u)$\")"
   ]
  },
  {
   "cell_type": "markdown",
   "metadata": {},
   "source": [
    "Finally, let's compare the cumulative histogram (with both `cumulative = True` and `density = True`) to the CDF:"
   ]
  },
  {
   "cell_type": "code",
   "execution_count": 19,
   "metadata": {},
   "outputs": [
    {
     "data": {
      "text/plain": [
       "Text(0, 0.5, '$F_U(u)$')"
      ]
     },
     "execution_count": 19,
     "metadata": {},
     "output_type": "execute_result"
    },
    {
     "data": {
      "image/png": "[encoded data removed]",
      "text/plain": [
       "<Figure size 432x288 with 1 Axes>"
      ]
     },
     "metadata": {
      "needs_background": "light"
     },
     "output_type": "display_data"
    }
   ],
   "source": [
    "uvals2 = np.linspace(0, 6, 61)\n",
    "plt.step(uvals2, U.cdf(uvals2), where=\"post\")\n",
    "plt.hist(u, cumulative=True, density=True, bins=newbins)\n",
    "\n",
    "plt.xlabel(\"$u$\")\n",
    "plt.ylabel(\"$F_U(u)$\")"
   ]
  },
  {
   "cell_type": "markdown",
   "metadata": {},
   "source": [
    "**Exercise:** What happens if we plot the cumulative histogram without specifying the bins? Why do you think that happens?"
   ]
  },
  {
   "cell_type": "markdown",
   "metadata": {
    "tags": []
   },
   "source": [
    "## Bernoulli Random Variable\n",
    "\n",
    "The Bernoulli random variable is another of the simplest of the discrete random variables, and it is the simplest random variable that can take on unequal probabilities. We give an \n",
    "informal definition:\n",
    "\n",
    "\n",
    "\n",
    "````{panels}\n",
    ":column: col-lg-12\n",
    "\n",
    "DEFINITION\n",
    "^^^\n",
    "```{glossary}\n",
    "Bernoulli random variable\n",
    "    A Bernoulli random variable $B$ takes on value of 0 or 1. It is specified by a parameter $p$ such that $P(B=1) = p$ and $P(B=0) = 1-p$.\n",
    "```\n",
    "````\n",
    "\n",
    "\n",
    "Formally, we can define the Bernoulli random variable as follows:\n",
    "\n",
    "Let $(S, \\mathcal{F}, P)$ be a probability space. Let $A \\in \\mathcal{F}$ be an event and define $p=P(A)$; for instance, $A$ may be an event corresponding to a \"success\".  Then define the Bernoulli random variable $B$ by\n",
    "\n",
    "$$\n",
    "B = \n",
    "\\begin{cases}1, & s\\in A \\\\\n",
    "0, & s\\notin A \n",
    "\\end{cases}\n",
    "$$\n",
    "\n",
    "The PMF for a Bernoulli RV $B$ is\n",
    "\n",
    "$$\n",
    "p_B(b) = \n",
    "\\begin{cases}\n",
    "p, & b=1\\\\\n",
    "1-p, & b=0\\\\\n",
    "0,& \\mbox{o.w.}\n",
    "\\end{cases}\n",
    "$$\n",
    "\n",
    "We have already given examples of two binary random variables in Examples 1 and 2 in {doc}`discrete-rvs`. There are many other phenomena that may be modeled as Bernoulli random variables. Some engineering examples include:\n",
    "* whether a bit is 0 or 1\n",
    "* whether a bit is in error in a communication system\n",
    "* whether a component of a system has failed\n",
    "* whether a sensor detects some phenomena.\n",
    "\n",
    "\n",
    "`````{note} **DISTRIBUTIONS OF RANDOM VARIABLES**\n",
    "\n",
    "We introduce a definition and some notation to facilitate discussing random variables of common types. \n",
    "\n",
    "\n",
    "````{panels}\n",
    ":column: col-lg-12\n",
    "\n",
    "DEFINITION\n",
    "^^^\n",
    "```{glossary}\n",
    "distribution (of a random variable)\n",
    "  The *distribution* of a random variable is a characterization of how the random variable maps sets of values to probabilities. For instance, the distribution may refer to a particular type of random variable along with whatever parameter(s) are required to completely specify the probabilities for that type of random variable. \n",
    "```\n",
    "````\n",
    "\n",
    "When the distribution refers to a particular type of random variable, we write either that a random variable has that distribution or that the random variable is *distributed* according to that type. For example, if $X$ is a Bernoulli random variable with  $p=P(X=1)$, then we say that $X$ has a Bernoulli($p$) distribution or that $X$ is distributed Bernoulli($p$). Both of these statements have the same meaning, and we will denote this in shorthand notation as \n",
    "\n",
    "$$\n",
    "X \\sim \\mathbf{Bernoulli} \\(p\\).\n",
    "$$\n",
    "`````\n",
    "\n"
   ]
  },
  {
   "cell_type": "markdown",
   "metadata": {},
   "source": [
    "We now show how to work with the Bernoulli random variable using `scipy.stats`. First, review the help page for `stats.bernoulli`:"
   ]
  },
  {
   "cell_type": "code",
   "execution_count": 20,
   "metadata": {
    "tags": [
     "remove-output"
    ]
   },
   "outputs": [
    {
     "data": {
      "text/plain": [
       "\u001b[0;31mSignature:\u001b[0m       \u001b[0mstats\u001b[0m\u001b[0;34m.\u001b[0m\u001b[0mbernoulli\u001b[0m\u001b[0;34m(\u001b[0m\u001b[0;34m*\u001b[0m\u001b[0margs\u001b[0m\u001b[0;34m,\u001b[0m \u001b[0;34m**\u001b[0m\u001b[0mkwds\u001b[0m\u001b[0;34m)\u001b[0m\u001b[0;34m\u001b[0m\u001b[0;34m\u001b[0m\u001b[0m\n",
       "\u001b[0;31mType:\u001b[0m            bernoulli_gen\n",
       "\u001b[0;31mString form:\u001b[0m     <scipy.stats._discrete_distns.bernoulli_gen object at 0x7fda5b3d3590>\n",
       "\u001b[0;31mFile:\u001b[0m            /Applications/anaconda3/lib/python3.7/site-packages/scipy/stats/_discrete_distns.py\n",
       "\u001b[0;31mDocstring:\u001b[0m      \n",
       "A Bernoulli discrete random variable.\n",
       "\n",
       "As an instance of the `rv_discrete` class, `bernoulli` object inherits from it\n",
       "a collection of generic methods (see below for the full list),\n",
       "and completes them with details specific for this particular distribution.\n",
       "\n",
       "Methods\n",
       "-------\n",
       "rvs(p, loc=0, size=1, random_state=None)\n",
       "    Random variates.\n",
       "pmf(k, p, loc=0)\n",
       "    Probability mass function.\n",
       "logpmf(k, p, loc=0)\n",
       "    Log of the probability mass function.\n",
       "cdf(k, p, loc=0)\n",
       "    Cumulative distribution function.\n",
       "logcdf(k, p, loc=0)\n",
       "    Log of the cumulative distribution function.\n",
       "sf(k, p, loc=0)\n",
       "    Survival function  (also defined as ``1 - cdf``, but `sf` is sometimes more accurate).\n",
       "logsf(k, p, loc=0)\n",
       "    Log of the survival function.\n",
       "ppf(q, p, loc=0)\n",
       "    Percent point function (inverse of ``cdf`` --- percentiles).\n",
       "isf(q, p, loc=0)\n",
       "    Inverse survival function (inverse of ``sf``).\n",
       "stats(p, loc=0, moments='mv')\n",
       "    Mean('m'), variance('v'), skew('s'), and/or kurtosis('k').\n",
       "entropy(p, loc=0)\n",
       "    (Differential) entropy of the RV.\n",
       "expect(func, args=(p,), loc=0, lb=None, ub=None, conditional=False)\n",
       "    Expected value of a function (of one argument) with respect to the distribution.\n",
       "median(p, loc=0)\n",
       "    Median of the distribution.\n",
       "mean(p, loc=0)\n",
       "    Mean of the distribution.\n",
       "var(p, loc=0)\n",
       "    Variance of the distribution.\n",
       "std(p, loc=0)\n",
       "    Standard deviation of the distribution.\n",
       "interval(alpha, p, loc=0)\n",
       "    Endpoints of the range that contains fraction alpha [0, 1] of the\n",
       "    distribution\n",
       "\n",
       "Notes\n",
       "-----\n",
       "The probability mass function for `bernoulli` is:\n",
       "\n",
       ".. math::\n",
       "\n",
       "   f(k) = \\begin{cases}1-p  &\\text{if } k = 0\\\\\n",
       "                       p    &\\text{if } k = 1\\end{cases}\n",
       "\n",
       "for :math:`k` in :math:`\\{0, 1\\}`, :math:`0 \\leq p \\leq 1`\n",
       "\n",
       "`bernoulli` takes :math:`p` as shape parameter,\n",
       "where :math:`p` is the probability of a single success\n",
       "and :math:`1-p` is the probability of a single failure.\n",
       "\n",
       "The probability mass function above is defined in the \"standardized\" form.\n",
       "To shift distribution use the ``loc`` parameter.\n",
       "Specifically, ``bernoulli.pmf(k, p, loc)`` is identically\n",
       "equivalent to ``bernoulli.pmf(k - loc, p)``.\n",
       "\n",
       "Examples\n",
       "--------\n",
       ">>> from scipy.stats import bernoulli\n",
       ">>> import matplotlib.pyplot as plt\n",
       ">>> fig, ax = plt.subplots(1, 1)\n",
       "\n",
       "Calculate the first four moments:\n",
       "\n",
       ">>> p = 0.3\n",
       ">>> mean, var, skew, kurt = bernoulli.stats(p, moments='mvsk')\n",
       "\n",
       "Display the probability mass function (``pmf``):\n",
       "\n",
       ">>> x = np.arange(bernoulli.ppf(0.01, p),\n",
       "...               bernoulli.ppf(0.99, p))\n",
       ">>> ax.plot(x, bernoulli.pmf(x, p), 'bo', ms=8, label='bernoulli pmf')\n",
       ">>> ax.vlines(x, 0, bernoulli.pmf(x, p), colors='b', lw=5, alpha=0.5)\n",
       "\n",
       "Alternatively, the distribution object can be called (as a function)\n",
       "to fix the shape and location. This returns a \"frozen\" RV object holding\n",
       "the given parameters fixed.\n",
       "\n",
       "Freeze the distribution and display the frozen ``pmf``:\n",
       "\n",
       ">>> rv = bernoulli(p)\n",
       ">>> ax.vlines(x, 0, rv.pmf(x), colors='k', linestyles='-', lw=1,\n",
       "...         label='frozen pmf')\n",
       ">>> ax.legend(loc='best', frameon=False)\n",
       ">>> plt.show()\n",
       "\n",
       "Check accuracy of ``cdf`` and ``ppf``:\n",
       "\n",
       ">>> prob = bernoulli.cdf(x, p)\n",
       ">>> np.allclose(x, bernoulli.ppf(prob, p))\n",
       "True\n",
       "\n",
       "Generate random numbers:\n",
       "\n",
       ">>> r = bernoulli.rvs(p, size=1000)\n",
       "\u001b[0;31mClass docstring:\u001b[0m\n",
       "A Bernoulli discrete random variable.\n",
       "\n",
       "%(before_notes)s\n",
       "\n",
       "Notes\n",
       "-----\n",
       "The probability mass function for `bernoulli` is:\n",
       "\n",
       ".. math::\n",
       "\n",
       "   f(k) = \\begin{cases}1-p  &\\text{if } k = 0\\\\\n",
       "                       p    &\\text{if } k = 1\\end{cases}\n",
       "\n",
       "for :math:`k` in :math:`\\{0, 1\\}`, :math:`0 \\leq p \\leq 1`\n",
       "\n",
       "`bernoulli` takes :math:`p` as shape parameter,\n",
       "where :math:`p` is the probability of a single success\n",
       "and :math:`1-p` is the probability of a single failure.\n",
       "\n",
       "%(after_notes)s\n",
       "\n",
       "%(example)s\n",
       "\u001b[0;31mCall docstring:\u001b[0m \n",
       "Freeze the distribution for the given arguments.\n",
       "\n",
       "Parameters\n",
       "----------\n",
       "arg1, arg2, arg3,... : array_like\n",
       "    The shape parameter(s) for the distribution.  Should include all\n",
       "    the non-optional arguments, may include ``loc`` and ``scale``.\n",
       "\n",
       "Returns\n",
       "-------\n",
       "rv_frozen : rv_frozen instance\n",
       "    The frozen distribution.\n"
      ]
     },
     "metadata": {},
     "output_type": "display_data"
    }
   ],
   "source": [
    "?stats.bernoulli"
   ]
  },
  {
   "cell_type": "markdown",
   "metadata": {},
   "source": [
    "\n",
    "For instance, to create a Bernoulli random variable $B_1$ with probability $P(B_1 = 1) = 0.2$, we will use the following Python code:"
   ]
  },
  {
   "cell_type": "code",
   "execution_count": 21,
   "metadata": {},
   "outputs": [],
   "source": [
    "B1 = stats.bernoulli(0.2)"
   ]
  },
  {
   "cell_type": "markdown",
   "metadata": {},
   "source": [
    "`B1` is now an object that represents a Bernoulli random variable with parameter $p=0.2$."
   ]
  },
  {
   "cell_type": "code",
   "execution_count": 22,
   "metadata": {
    "tags": [
     "remove-output"
    ]
   },
   "outputs": [
    {
     "name": "stdout",
     "output_type": "stream",
     "text": [
      "Help on rv_frozen in module scipy.stats._distn_infrastructure object:\n",
      "\n",
      "class rv_frozen(builtins.object)\n",
      " |  rv_frozen(dist, *args, **kwds)\n",
      " |  \n",
      " |  # Frozen RV class\n",
      " |  \n",
      " |  Methods defined here:\n",
      " |  \n",
      " |  __init__(self, dist, *args, **kwds)\n",
      " |      Initialize self.  See help(type(self)) for accurate signature.\n",
      " |  \n",
      " |  cdf(self, x)\n",
      " |  \n",
      " |  entropy(self)\n",
      " |  \n",
      " |  expect(self, func=None, lb=None, ub=None, conditional=False, **kwds)\n",
      " |  \n",
      " |  interval(self, alpha)\n",
      " |  \n",
      " |  isf(self, q)\n",
      " |  \n",
      " |  logcdf(self, x)\n",
      " |  \n",
      " |  logpdf(self, x)\n",
      " |  \n",
      " |  logpmf(self, k)\n",
      " |  \n",
      " |  logsf(self, x)\n",
      " |  \n",
      " |  mean(self)\n",
      " |  \n",
      " |  median(self)\n",
      " |  \n",
      " |  moment(self, n)\n",
      " |  \n",
      " |  pdf(self, x)\n",
      " |  \n",
      " |  pmf(self, k)\n",
      " |  \n",
      " |  ppf(self, q)\n",
      " |  \n",
      " |  rvs(self, size=None, random_state=None)\n",
      " |  \n",
      " |  sf(self, x)\n",
      " |  \n",
      " |  stats(self, moments='mv')\n",
      " |  \n",
      " |  std(self)\n",
      " |  \n",
      " |  support(self)\n",
      " |  \n",
      " |  var(self)\n",
      " |  \n",
      " |  ----------------------------------------------------------------------\n",
      " |  Data descriptors defined here:\n",
      " |  \n",
      " |  __dict__\n",
      " |      dictionary for instance variables (if defined)\n",
      " |  \n",
      " |  __weakref__\n",
      " |      list of weak references to the object (if defined)\n",
      " |  \n",
      " |  random_state\n",
      "\n"
     ]
    }
   ],
   "source": [
    "help(B1)"
   ]
  },
  {
   "cell_type": "markdown",
   "metadata": {},
   "source": [
    "Let's inspect and then plot the PMF values:"
   ]
  },
  {
   "cell_type": "code",
   "execution_count": 23,
   "metadata": {},
   "outputs": [
    {
     "data": {
      "text/plain": [
       "array([0. , 0.8, 0.2, 0. ])"
      ]
     },
     "execution_count": 23,
     "metadata": {},
     "output_type": "execute_result"
    }
   ],
   "source": [
    "b = np.arange(-1, 3)\n",
    "B1.pmf(b)"
   ]
  },
  {
   "cell_type": "code",
   "execution_count": 24,
   "metadata": {},
   "outputs": [
    {
     "data": {
      "image/png": "[encoded data removed]",
      "text/plain": [
       "<Figure size 432x288 with 1 Axes>"
      ]
     },
     "metadata": {
      "needs_background": "light"
     },
     "output_type": "display_data"
    }
   ],
   "source": [
    "plt.stem(b, B1.pmf(b), use_line_collection=True)\n",
    "plt.xlim(-0.5, 1.5);"
   ]
  },
  {
   "cell_type": "markdown",
   "metadata": {},
   "source": [
    "The CDF also works as expected:"
   ]
  },
  {
   "cell_type": "code",
   "execution_count": 25,
   "metadata": {},
   "outputs": [
    {
     "data": {
      "image/png": "[encoded data removed]",
      "text/plain": [
       "<Figure size 432x288 with 1 Axes>"
      ]
     },
     "metadata": {
      "needs_background": "light"
     },
     "output_type": "display_data"
    }
   ],
   "source": [
    "x = np.linspace(-1, 2, 101)\n",
    "plt.step(x, B1.cdf(x), where=\"post\");"
   ]
  },
  {
   "cell_type": "markdown",
   "metadata": {},
   "source": [
    "Each `scipy.stats` random variables also has the ability to draw random values from the specified distribution (i.e., to get values of the random variable).  The method to do this is called `rvs`. If it is called with no argument, then it generates a single value of that random variable:"
   ]
  },
  {
   "cell_type": "code",
   "execution_count": 26,
   "metadata": {},
   "outputs": [
    {
     "data": {
      "text/plain": [
       "0"
      ]
     },
     "execution_count": 26,
     "metadata": {},
     "output_type": "execute_result"
    }
   ],
   "source": [
    "B1.rvs()"
   ]
  },
  {
   "cell_type": "markdown",
   "metadata": {},
   "source": [
    "More commonly, we pass the number of random values we want to generate as an argument:"
   ]
  },
  {
   "cell_type": "code",
   "execution_count": 27,
   "metadata": {},
   "outputs": [
    {
     "data": {
      "text/plain": [
       "array([0, 0, 0, 0, 0, 0, 0, 0, 1, 0])"
      ]
     },
     "execution_count": 27,
     "metadata": {},
     "output_type": "execute_result"
    }
   ],
   "source": [
    "B1.rvs(10)"
   ]
  },
  {
   "cell_type": "markdown",
   "metadata": {},
   "source": [
    "Lets simulate 100_000 values of the Bernoulli(0.2) random variable and plot a histogram of the values. We will also capture the output counts to compare the relative frequencies with the true values:"
   ]
  },
  {
   "cell_type": "code",
   "execution_count": 28,
   "metadata": {},
   "outputs": [
    {
     "data": {
      "image/png": "[encoded data removed]",
      "text/plain": [
       "<Figure size 432x288 with 1 Axes>"
      ]
     },
     "metadata": {
      "needs_background": "light"
     },
     "output_type": "display_data"
    }
   ],
   "source": [
    "num_sims = 100_000\n",
    "b = B1.rvs(num_sims)\n",
    "mybins = [0, 1, 2]\n",
    "counts, mybins, patches = plt.hist(b, bins=mybins)"
   ]
  },
  {
   "cell_type": "markdown",
   "metadata": {},
   "source": [
    "Then the relative frequencies are:"
   ]
  },
  {
   "cell_type": "code",
   "execution_count": 29,
   "metadata": {},
   "outputs": [
    {
     "name": "stdout",
     "output_type": "stream",
     "text": [
      "The relative freqs are [0.80182 0.19818]\n"
     ]
    },
    {
     "data": {
      "text/plain": [
       "<StemContainer object of 3 artists>"
      ]
     },
     "execution_count": 29,
     "metadata": {},
     "output_type": "execute_result"
    },
    {
     "data": {
      "image/png": "[encoded data removed]",
      "text/plain": [
       "<Figure size 432x288 with 1 Axes>"
      ]
     },
     "metadata": {
      "needs_background": "light"
     },
     "output_type": "display_data"
    }
   ],
   "source": [
    "print(f\"The relative freqs are {counts/num_sims}\")\n",
    "plt.bar([0, 1], counts / num_sims, alpha=0.5)\n",
    "\n",
    "plt.stem([0, 1], B1.pmf([0, 1]), linefmt=\"orange\", use_line_collection=True)"
   ]
  },
  {
   "cell_type": "markdown",
   "metadata": {
    "tags": []
   },
   "source": [
    "## Binomial Random Variable\n",
    "\n",
    "One of the next most common types of discrete random variables arises when we have $N$ repeated, independent Bernoulli trials with identical probability of success $p$. Let $B_2$ be the number of successes. Then $B_2$ is a Binomial$(N,p)$ random variable. For example, in our very first experiments in {doc}`../02-first-stats/motivating-problem`, we considered the probability of seeing 6 or fewer heads when a fair coin is tossed 20 times. We can model the number of heads as Binomial(20, 0.5) random variable.  \n",
    "\n",
    "Note that we can also think of a Binomial$(n,p)$ random variable as the **sum** of $n$ independent Bernoulli$(p)$ random variables. \n",
    "\n",
    "In shorthand notation, we will write\n",
    "    \n",
    "$$B_2 \\sim \\text{Binomial}(n,p)$$\n",
    "\n",
    "The PMF for a Binomial random variable is easily derived:\n",
    "* For $N$ trials with probability of success $p$, the probability of a particular ordering of $k$ successes is $p^k(1-p)^{N-k}$. \n",
    "* The number of different orderings of $k$ successes and $N-k$ failures in $N$ total trials is \n",
    "\n",
    "$$\n",
    "\\binom{N}{k}.\n",
    "$$\n",
    "\n",
    "Thus the probability of getting $k$ successes on $N$ independent Bernoulli($p$) trials is\n",
    "\n",
    "$$\n",
    "\\binom{N}{k} p^k(1-p)^{N-k}. \n",
    "$$\n",
    "\n",
    "Here, the variable $k$ was used instead of $b$ because $k$ is used widely in practice to represent a number of successes for a Binomial random variable.\n",
    "\n",
    "We summarize our definition of the Binomial random variable below:\n",
    "````{panels} \n",
    ":column: col-lg-12\n",
    " \n",
    "DEFINITION\n",
    "^^^\n",
    "```{glossary}\n",
    "Binomial random variable\n",
    "    A binomial random variable $B_2$ represents the number of successes on $N$ independent Bernoulli trials, each of which has probability of success $p$. The probability mass function for the Binomial random variable is \n",
    "    \\begin{equation} \n",
    "    p_{B_2}(k) =  \n",
    "    \\begin{cases} \n",
    "    \\binom{N}{k} p^k (1-p)^{N-k}, & k=0,1,\\dots,N \\\\\n",
    "    0, & \\mbox{o.w.} \n",
    "    \\end{cases}  \n",
    "    \\end{equation}\n",
    "```\n",
    "````\n",
    "\n",
    "Some engineering examples include:\n",
    "* the number of bits in error in a packet\n",
    "* the number of defective items in a manufacturing run"
   ]
  },
  {
   "cell_type": "markdown",
   "metadata": {},
   "source": [
    "A binomial random variable can be created in `scipy.stats` using `stats.binom`. The number of trials and probability of success must be passed as the arguments:"
   ]
  },
  {
   "cell_type": "code",
   "execution_count": 30,
   "metadata": {},
   "outputs": [],
   "source": [
    "B2 = stats.binom(10, 0.2)"
   ]
  },
  {
   "cell_type": "code",
   "execution_count": 31,
   "metadata": {},
   "outputs": [
    {
     "data": {
      "image/png": "[encoded data removed]",
      "text/plain": [
       "<Figure size 432x288 with 1 Axes>"
      ]
     },
     "metadata": {
      "needs_background": "light"
     },
     "output_type": "display_data"
    }
   ],
   "source": [
    "k = range(0, 11)\n",
    "plt.stem(k, B2.pmf(k), use_line_collection=True);"
   ]
  },
  {
   "cell_type": "markdown",
   "metadata": {},
   "source": [
    "Intuitively, if $p$ is small (such as $p=0.2$ in the example above), then most of the probability  mass will be around the small values of the random variable. Moreover, most people have the sense that if we conduct $N$ trials with probability $p$, then the most likely outcomes will be around $Np$. We see that this is true for our example of $N=10$ and $p=0.2$ -- the value with the highest probability is $Np=2$. If we increase $p$ to 0.6, we get the following pmf:"
   ]
  },
  {
   "cell_type": "code",
   "execution_count": 32,
   "metadata": {},
   "outputs": [
    {
     "data": {
      "image/png": "[encoded data removed]",
      "text/plain": [
       "<Figure size 432x288 with 1 Axes>"
      ]
     },
     "metadata": {
      "needs_background": "light"
     },
     "output_type": "display_data"
    }
   ],
   "source": [
    "B3 = stats.binom(10, 0.6)\n",
    "plt.stem(k, B3.pmf(k), use_line_collection=True);"
   ]
  },
  {
   "cell_type": "markdown",
   "metadata": {},
   "source": [
    "Again, $Np=6$ is the most common value. Let's try $p=0.75$, for which $NP=7.5$ is not a possible value of the random variable:"
   ]
  },
  {
   "cell_type": "code",
   "execution_count": 33,
   "metadata": {},
   "outputs": [
    {
     "data": {
      "image/png": "[encoded data removed]",
      "text/plain": [
       "<Figure size 432x288 with 1 Axes>"
      ]
     },
     "metadata": {
      "needs_background": "light"
     },
     "output_type": "display_data"
    }
   ],
   "source": [
    "B4 = stats.binom(10, 0.75)\n",
    "plt.stem(k, B4.pmf(k), use_line_collection=True);"
   ]
  },
  {
   "cell_type": "markdown",
   "metadata": {},
   "source": [
    "For the Binomial(10, 0.75) random variable, the value with the highest probability is 8, which is close to $Np=7.5$."
   ]
  },
  {
   "cell_type": "markdown",
   "metadata": {},
   "source": [
    "Here is a plot of the CDF for the Binomial(10, 0.75) random variable:"
   ]
  },
  {
   "cell_type": "code",
   "execution_count": 34,
   "metadata": {},
   "outputs": [
    {
     "data": {
      "image/png": "[encoded data removed]",
      "text/plain": [
       "<Figure size 432x288 with 1 Axes>"
      ]
     },
     "metadata": {
      "needs_background": "light"
     },
     "output_type": "display_data"
    }
   ],
   "source": [
    "k = np.linspace(0, 12, 1000)\n",
    "plt.step(k, B4.cdf(k), where=\"post\");"
   ]
  },
  {
   "cell_type": "markdown",
   "metadata": {},
   "source": [
    "Note that the region where the CDF is increasing quickly is the region where most of the probability is concentrated (since the size of the jumps is equal to the probabilities at the location of the jumps). Finally, we compare a cumulative histogram (with `density=True`) to the CDF:"
   ]
  },
  {
   "cell_type": "code",
   "execution_count": 35,
   "metadata": {},
   "outputs": [
    {
     "data": {
      "image/png": "[encoded data removed]",
      "text/plain": [
       "<Figure size 432x288 with 1 Axes>"
      ]
     },
     "metadata": {
      "needs_background": "light"
     },
     "output_type": "display_data"
    }
   ],
   "source": [
    "b4 = B4.rvs(100_000)\n",
    "mybins = range(0, 12)\n",
    "plt.hist(b4, bins=mybins, cumulative=True, density=True, alpha=0.3)\n",
    "plt.plot(k, B4.cdf(k))\n",
    "plt.xlim(0, 11);"
   ]
  },
  {
   "cell_type": "markdown",
   "metadata": {},
   "source": [
    "Before we leave the binomial random variable, let's observe one more behavior. Consider how the PMF looks for a large number of trials:"
   ]
  },
  {
   "cell_type": "code",
   "execution_count": 36,
   "metadata": {},
   "outputs": [
    {
     "name": "stderr",
     "output_type": "stream",
     "text": [
      "/Applications/anaconda3/lib/python3.7/site-packages/scipy/stats/_discrete_distns.py:67: RuntimeWarning: divide by zero encountered in _binom_pdf\n",
      "  return _boost._binom_pdf(x, n, p)\n"
     ]
    },
    {
     "data": {
      "text/plain": [
       "<StemContainer object of 3 artists>"
      ]
     },
     "execution_count": 36,
     "metadata": {},
     "output_type": "execute_result"
    },
    {
     "data": {
      "image/png": "[encoded data removed]",
      "text/plain": [
       "<Figure size 432x288 with 1 Axes>"
      ]
     },
     "metadata": {
      "needs_background": "light"
     },
     "output_type": "display_data"
    }
   ],
   "source": [
    "B5 = stats.binom(1000, 0.2)\n",
    "b5vals = np.arange(0, 1001)\n",
    "plt.stem(b5vals, B5.pmf(b5vals), use_line_collection=True)"
   ]
  },
  {
   "cell_type": "markdown",
   "metadata": {},
   "source": [
    "Let's zoom in to where most of the probability is and use `plt.scatter` to remove the \"stems\":"
   ]
  },
  {
   "cell_type": "code",
   "execution_count": 37,
   "metadata": {},
   "outputs": [
    {
     "data": {
      "text/plain": [
       "<matplotlib.collections.PathCollection at 0x7fda5c9c8810>"
      ]
     },
     "execution_count": 37,
     "metadata": {},
     "output_type": "execute_result"
    },
    {
     "data": {
      "image/png": "[encoded data removed]",
      "text/plain": [
       "<Figure size 432x288 with 1 Axes>"
      ]
     },
     "metadata": {
      "needs_background": "light"
     },
     "output_type": "display_data"
    }
   ],
   "source": [
    "plt.scatter(b5vals[150:250], B5.pmf(b5vals[150:250]))"
   ]
  },
  {
   "cell_type": "markdown",
   "metadata": {},
   "source": [
    "This shape is called a *bell shape* or *bell curve*. It plays an important role in probability and statistics, but we do not yet have the tools to explore it in detail yet."
   ]
  },
  {
   "cell_type": "markdown",
   "metadata": {},
   "source": [
    "##  Geometric Random Variable\n",
    "\n",
    "\n",
    "````{panels}\n",
    ":column: col-lg-12\n",
    "\n",
    "DEFINITION\n",
    "^^^\n",
    "```{glossary}\n",
    "Geometric random variable\n",
    " If independent Bernoulli trials with probability of success $p$ are conducted until the first success, the number of trials required is a *geometric random variable.*  If $G$ is a geometric random variable created from Bernoulli trials with probability of success $p$, we write $X \\sim \\text{Geometric}(p)$, and the probability mass function for $G$ is\n",
    "    \n",
    "$$\n",
    "p_G(k) =\n",
    "\\begin{cases}\n",
    "p(1-p)^{k-1}, & k=1,2,\\dots \\\\ \n",
    "0, & \\text{o.w.}\\\\\n",
    "\\end{cases}\n",
    "$$\n",
    "```\n",
    "````\n",
    "\n",
    "We already encountered such a scenario in Example 5 of {doc}`discrete-rvs`, where we flipped a fair coin until the first Heads. The Geometric random variable generalizes that example to handle Bernoulli trials with arbitrary probabilities. Unlike the Binomial, the Geometric random variable \n",
    " does not have a finite range; that is, we cannot specify any particular maximum number of Bernoulli trials that might be required to get the first success. However, since the range is the counting numbers $1,2,3, \\ldots$, it is countable.  \n",
    "\n",
    "It may seem that if the range of a random variable is an infinite set, then it will not be possible to assign a non-zero probability to every outcome. However, the Geometric random variable shows that this is not true. It is possible to assign non-zero probabilities to a discrete random variable with a countable number of outcomes, provided that the probabilities go to zero fast enough. \n",
    "\n",
    "Note that \n",
    "\n",
    "\\begin{align*}\n",
    "\\sum_{k=1}^{\\infty} p (1-p)^{k-1} &= p \\sum_{m=0}^{\\infty} (1-p)^m \\\\\n",
    "&= p \\left( \\frac 1 p \\right) =1,\n",
    "\\end{align*}\n",
    "so the total probability assigned to all the outcomes sums to 1.\n",
    "\n",
    "Some examples include:\n",
    "* The number of transmissions required for a packet to be successfully received when transmitted over a noisy channel and retransmitted whenever the received version is corrupted by noise.\n",
    "* An book publisher is promoting a book on the foundations of data science at a conference. The attendees use  Python, R, or SPSS for computational data analysis.  The number of people that the publisher must talk to before finding one that uses Python for data analysis is a geometric random variable.\n"
   ]
  },
  {
   "cell_type": "markdown",
   "metadata": {},
   "source": [
    "A geometric random variable can be created in `scipy.stats` as `stats.geom()`, where the argument is the probability of success for the Bernoulli trials. See the help for a list of methods, which are similar to those available for the other discrete random variables that we have introduced:"
   ]
  },
  {
   "cell_type": "code",
   "execution_count": 38,
   "metadata": {
    "tags": [
     "remove-output"
    ]
   },
   "outputs": [
    {
     "data": {
      "text/plain": [
       "\u001b[0;31mSignature:\u001b[0m       \u001b[0mstats\u001b[0m\u001b[0;34m.\u001b[0m\u001b[0mgeom\u001b[0m\u001b[0;34m(\u001b[0m\u001b[0;34m*\u001b[0m\u001b[0margs\u001b[0m\u001b[0;34m,\u001b[0m \u001b[0;34m**\u001b[0m\u001b[0mkwds\u001b[0m\u001b[0;34m)\u001b[0m\u001b[0;34m\u001b[0m\u001b[0;34m\u001b[0m\u001b[0m\n",
       "\u001b[0;31mType:\u001b[0m            geom_gen\n",
       "\u001b[0;31mString form:\u001b[0m     <scipy.stats._discrete_distns.geom_gen object at 0x7fda5b3d3f10>\n",
       "\u001b[0;31mFile:\u001b[0m            /Applications/anaconda3/lib/python3.7/site-packages/scipy/stats/_discrete_distns.py\n",
       "\u001b[0;31mDocstring:\u001b[0m      \n",
       "A geometric discrete random variable.\n",
       "\n",
       "As an instance of the `rv_discrete` class, `geom` object inherits from it\n",
       "a collection of generic methods (see below for the full list),\n",
       "and completes them with details specific for this particular distribution.\n",
       "\n",
       "Methods\n",
       "-------\n",
       "rvs(p, loc=0, size=1, random_state=None)\n",
       "    Random variates.\n",
       "pmf(k, p, loc=0)\n",
       "    Probability mass function.\n",
       "logpmf(k, p, loc=0)\n",
       "    Log of the probability mass function.\n",
       "cdf(k, p, loc=0)\n",
       "    Cumulative distribution function.\n",
       "logcdf(k, p, loc=0)\n",
       "    Log of the cumulative distribution function.\n",
       "sf(k, p, loc=0)\n",
       "    Survival function  (also defined as ``1 - cdf``, but `sf` is sometimes more accurate).\n",
       "logsf(k, p, loc=0)\n",
       "    Log of the survival function.\n",
       "ppf(q, p, loc=0)\n",
       "    Percent point function (inverse of ``cdf`` --- percentiles).\n",
       "isf(q, p, loc=0)\n",
       "    Inverse survival function (inverse of ``sf``).\n",
       "stats(p, loc=0, moments='mv')\n",
       "    Mean('m'), variance('v'), skew('s'), and/or kurtosis('k').\n",
       "entropy(p, loc=0)\n",
       "    (Differential) entropy of the RV.\n",
       "expect(func, args=(p,), loc=0, lb=None, ub=None, conditional=False)\n",
       "    Expected value of a function (of one argument) with respect to the distribution.\n",
       "median(p, loc=0)\n",
       "    Median of the distribution.\n",
       "mean(p, loc=0)\n",
       "    Mean of the distribution.\n",
       "var(p, loc=0)\n",
       "    Variance of the distribution.\n",
       "std(p, loc=0)\n",
       "    Standard deviation of the distribution.\n",
       "interval(alpha, p, loc=0)\n",
       "    Endpoints of the range that contains fraction alpha [0, 1] of the\n",
       "    distribution\n",
       "\n",
       "Notes\n",
       "-----\n",
       "The probability mass function for `geom` is:\n",
       "\n",
       ".. math::\n",
       "\n",
       "    f(k) = (1-p)^{k-1} p\n",
       "\n",
       "for :math:`k \\ge 1`, :math:`0 < p \\leq 1`\n",
       "\n",
       "`geom` takes :math:`p` as shape parameter,\n",
       "where :math:`p` is the probability of a single success\n",
       "and :math:`1-p` is the probability of a single failure.\n",
       "\n",
       "The probability mass function above is defined in the \"standardized\" form.\n",
       "To shift distribution use the ``loc`` parameter.\n",
       "Specifically, ``geom.pmf(k, p, loc)`` is identically\n",
       "equivalent to ``geom.pmf(k - loc, p)``.\n",
       "\n",
       "See Also\n",
       "--------\n",
       "planck\n",
       "\n",
       "Examples\n",
       "--------\n",
       ">>> from scipy.stats import geom\n",
       ">>> import matplotlib.pyplot as plt\n",
       ">>> fig, ax = plt.subplots(1, 1)\n",
       "\n",
       "Calculate the first four moments:\n",
       "\n",
       ">>> p = 0.5\n",
       ">>> mean, var, skew, kurt = geom.stats(p, moments='mvsk')\n",
       "\n",
       "Display the probability mass function (``pmf``):\n",
       "\n",
       ">>> x = np.arange(geom.ppf(0.01, p),\n",
       "...               geom.ppf(0.99, p))\n",
       ">>> ax.plot(x, geom.pmf(x, p), 'bo', ms=8, label='geom pmf')\n",
       ">>> ax.vlines(x, 0, geom.pmf(x, p), colors='b', lw=5, alpha=0.5)\n",
       "\n",
       "Alternatively, the distribution object can be called (as a function)\n",
       "to fix the shape and location. This returns a \"frozen\" RV object holding\n",
       "the given parameters fixed.\n",
       "\n",
       "Freeze the distribution and display the frozen ``pmf``:\n",
       "\n",
       ">>> rv = geom(p)\n",
       ">>> ax.vlines(x, 0, rv.pmf(x), colors='k', linestyles='-', lw=1,\n",
       "...         label='frozen pmf')\n",
       ">>> ax.legend(loc='best', frameon=False)\n",
       ">>> plt.show()\n",
       "\n",
       "Check accuracy of ``cdf`` and ``ppf``:\n",
       "\n",
       ">>> prob = geom.cdf(x, p)\n",
       ">>> np.allclose(x, geom.ppf(prob, p))\n",
       "True\n",
       "\n",
       "Generate random numbers:\n",
       "\n",
       ">>> r = geom.rvs(p, size=1000)\n",
       "\u001b[0;31mClass docstring:\u001b[0m\n",
       "A geometric discrete random variable.\n",
       "\n",
       "%(before_notes)s\n",
       "\n",
       "Notes\n",
       "-----\n",
       "The probability mass function for `geom` is:\n",
       "\n",
       ".. math::\n",
       "\n",
       "    f(k) = (1-p)^{k-1} p\n",
       "\n",
       "for :math:`k \\ge 1`, :math:`0 < p \\leq 1`\n",
       "\n",
       "`geom` takes :math:`p` as shape parameter,\n",
       "where :math:`p` is the probability of a single success\n",
       "and :math:`1-p` is the probability of a single failure.\n",
       "\n",
       "%(after_notes)s\n",
       "\n",
       "See Also\n",
       "--------\n",
       "planck\n",
       "\n",
       "%(example)s\n",
       "\u001b[0;31mCall docstring:\u001b[0m \n",
       "Freeze the distribution for the given arguments.\n",
       "\n",
       "Parameters\n",
       "----------\n",
       "arg1, arg2, arg3,... : array_like\n",
       "    The shape parameter(s) for the distribution.  Should include all\n",
       "    the non-optional arguments, may include ``loc`` and ``scale``.\n",
       "\n",
       "Returns\n",
       "-------\n",
       "rv_frozen : rv_frozen instance\n",
       "    The frozen distribution.\n"
      ]
     },
     "metadata": {},
     "output_type": "display_data"
    }
   ],
   "source": [
    "?stats.geom"
   ]
  },
  {
   "cell_type": "code",
   "execution_count": 39,
   "metadata": {},
   "outputs": [],
   "source": [
    "G = stats.geom(0.2)"
   ]
  },
  {
   "cell_type": "code",
   "execution_count": 40,
   "metadata": {},
   "outputs": [],
   "source": [
    "g = G.rvs(100000)"
   ]
  },
  {
   "cell_type": "code",
   "execution_count": 41,
   "metadata": {},
   "outputs": [
    {
     "data": {
      "image/png": "[encoded data removed]",
      "text/plain": [
       "<Figure size 432x288 with 1 Axes>"
      ]
     },
     "metadata": {
      "needs_background": "light"
     },
     "output_type": "display_data"
    }
   ],
   "source": [
    "plt.scatter(range(len(g)), g);"
   ]
  },
  {
   "cell_type": "code",
   "execution_count": 42,
   "metadata": {},
   "outputs": [
    {
     "data": {
      "image/png": "[encoded data removed]",
      "text/plain": [
       "<Figure size 432x288 with 1 Axes>"
      ]
     },
     "metadata": {
      "needs_background": "light"
     },
     "output_type": "display_data"
    }
   ],
   "source": [
    "vals = range(20)\n",
    "plt.hist(g, bins=vals, density=True, alpha=0.5)\n",
    "plt.stem(vals, G.pmf(vals), use_line_collection=True);"
   ]
  },
  {
   "cell_type": "code",
   "execution_count": 43,
   "metadata": {},
   "outputs": [
    {
     "data": {
      "image/png": "[encoded data removed]",
      "text/plain": [
       "<Figure size 432x288 with 1 Axes>"
      ]
     },
     "metadata": {
      "needs_background": "light"
     },
     "output_type": "display_data"
    }
   ],
   "source": [
    "g = G.rvs(100000)\n",
    "vals = range(20)\n",
    "plt.hist(g, bins=vals, density=True, alpha=0.5, cumulative=True)\n",
    "plt.step(vals, G.cdf(vals), where=\"post\");"
   ]
  },
  {
   "cell_type": "markdown",
   "metadata": {},
   "source": [
    "Rather than derive the cdf for a geometric random variable mathematically, we will determine it from a simple argument that is easy to remember. Consider instead the probability $P(G>k)$, which is the value of the survival function for $G$ with argument $k$. If $G>g$, more than $g$ trials are required **because there have been no successes in the first $g$ trials**. Thus, we can calculate $P(G>g)$ as\n",
    "\n",
    "\\begin{align*}\n",
    "P(G >g) &= \\operatorname{Pr} \\left( \\mbox{no successes on } g \\mbox{ consecutive independent Bernoulli}(p) \\mbox{ trials} \\right) \\\\\n",
    "&= (1-p)^g.\n",
    "\\end{align*}\n",
    "\n",
    "Then the CDF for $G$ is \n",
    "\n",
    "$$\n",
    "P(G \\le k) = 1 - P(G>k) = 1 - (1-p)^g.\n",
    "$$\n"
   ]
  },
  {
   "cell_type": "code",
   "execution_count": 44,
   "metadata": {},
   "outputs": [
    {
     "data": {
      "text/plain": [
       "Text(0, 0.5, 'CDF of geometric RV, $G(k)$')"
      ]
     },
     "execution_count": 44,
     "metadata": {},
     "output_type": "execute_result"
    },
    {
     "data": {
      "image/png": "[encoded data removed]",
      "text/plain": [
       "<Figure size 432x288 with 1 Axes>"
      ]
     },
     "metadata": {
      "needs_background": "light"
     },
     "output_type": "display_data"
    }
   ],
   "source": [
    "plt.plot(vals, G.cdf(vals))\n",
    "plt.plot(vals, 1 - np.power((1 - 0.2), vals))\n",
    "plt.xlabel(\"$k$\")\n",
    "plt.ylabel(\"CDF of geometric RV, $G(k)$\")"
   ]
  },
  {
   "cell_type": "markdown",
   "metadata": {
    "tags": []
   },
   "source": [
    "## Poisson Random Variable"
   ]
  },
  {
   "cell_type": "markdown",
   "metadata": {},
   "source": [
    "First things first -- Poisson is French and roughly pronounced \"pwah - sahn\". It is named after the French mathematician Siméon Denis Poisson ([Wikipedia article on Siméon Denis Poisson](https://en.wikipedia.org/wiki/Siméon_Denis_Poisson)).\n",
    "\n",
    "\n",
    "\n"
   ]
  },
  {
   "cell_type": "markdown",
   "metadata": {},
   "source": [
    "Before explaining the Poisson random variable, we begin with a story told by the famous Swiss psychiatrist Carl Jung in \"Synchronicity: An Acausal Connecting Principle\" about observations he made starting at lunch on April 1, 1949:\n",
    "\n",
    "> We have fish for lunch. Somebody happens to mention the custom of making an “April fish” of someone. That same morning I made a note of an inscription which read: “Est homo totus medius piscis ab imo.” [Rough translation: It is man from the middle, fish from the bottom.] In the afternoon a former patient of mine, whom I had not seen for months, showed me some extremely impressive pictures of fish which she had painted in the meantime. In the evening I was shown a piece of embroidery with fish-like sea-monsters in it. On the morning of April 2 another patient, whom I had not seen for many years, told me a dream in which she stood on the shore of a lake and saw a large fish that swam straight towards her and landed at her feet. I was at this time engaged on a study of the fish symbol in history. \n",
    "\n",
    "Seeing six fish in a 24-hour period seemed unusual. However, he recognizes that this must be assumed as a  \"meaningful coincidence\" unless there is proof \"that their incidence exceeds the limits of probability.\"\n",
    "\n",
    "Now, you should be asking: what does this have to do with the Poisson random variable:\n",
    "\n",
    "1. The Poisson random variable can help us answer questions like \"**What is the probability of seeing six fish in 24 hours?**\" and can be combined with other random variables to answer a question like \"**What is the probably of seeing six fish in 24 hours at least sometime in a 20 year period?**\"\n",
    "2. *Poisson* is French for... <br><br>\n",
    "    **fish**!\n",
    "\n"
   ]
  },
  {
   "cell_type": "markdown",
   "metadata": {},
   "source": [
    "\n",
    "The Poisson random variable is used to model phenomena that occur randomly over some fixed amount of time or space. For convenience of discussion and because it is the most common application, we will only consider periods of time, but everything we discuss below applies equally well to events that occur at some random rate over space. \n",
    "\n",
    "A Poisson random variable is the number of occurrences given the average rate at which the phenomena occur and the length of time or area of space being considered. We will use the following notation for parameters associated with a random variable:\n",
    "\n",
    "* $\\lambda$ is the average rate of occurrences over time or space,\n",
    "* $T$ is a length of time  being considered, and\n",
    "* $\\alpha = \\lambda T$ is the *average* number of occurrences over $T$.\n",
    "\n",
    "Note that if $\\alpha$ is known, then it is not required to know $\\lambda$ and $T$ separately. \n",
    "\n",
    "Given the parameter(s), then we can define a Poisson random variable in terms of its PMF:\n",
    "\n",
    "\n",
    "````{panels}\n",
    ":column: col-lg-12\n",
    "\n",
    "\n",
    "DEFINITION\n",
    "^^^\n",
    "```{glossary}\n",
    "Poisson random variable\n",
    "    A random variable $X$ that models events that occur randomly over time (or space), such that if $\\alpha$ events occur on average in some interval of length $T$, then the PMF of $X$ is \n",
    "    \\begin{equation*} p_X(x) = \\begin{cases} \\frac{ \\alpha^k}{k!} e^{- \\alpha}, & k = 0, 1, \\ldots \\\\ 0, & \\mbox{o.w.} \\end{cases} \\end{equation*}\n",
    "```\n",
    "````\n",
    "\n",
    "\n",
    "\n",
    "\n",
    "\n"
   ]
  },
  {
   "cell_type": "markdown",
   "metadata": {},
   "source": [
    "Note that the range of a Poisson random variable is from 0 to $\\infty$.\n",
    "\n",
    "The shape of the Poisson varies depending on its parameter, $\\alpha$. Consider first the PMF for a Poisson random variable with $\\alpha=0.5$:\n"
   ]
  },
  {
   "cell_type": "code",
   "execution_count": 45,
   "metadata": {},
   "outputs": [
    {
     "data": {
      "text/plain": [
       "<StemContainer object of 3 artists>"
      ]
     },
     "execution_count": 45,
     "metadata": {},
     "output_type": "execute_result"
    },
    {
     "data": {
      "image/png": "[encoded data removed]",
      "text/plain": [
       "<Figure size 432x288 with 1 Axes>"
      ]
     },
     "metadata": {
      "needs_background": "light"
     },
     "output_type": "display_data"
    }
   ],
   "source": [
    "P1 = stats.poisson(0.5)\n",
    "p1vals = range(5)\n",
    "plt.stem(p1vals, P1.pmf(p1vals), use_line_collection=True)"
   ]
  },
  {
   "cell_type": "markdown",
   "metadata": {},
   "source": [
    "If viewing this book online, use the slider to change the value of alpha and observe the effect on the shape of the PMF. "
   ]
  },
  {
   "cell_type": "code",
   "execution_count": 46,
   "metadata": {},
   "outputs": [
    {
     "data": {
      "application/vnd.jupyter.widget-view+json": {
       "model_id": "7fc058ea198d44ad954bb222652c5a0e",
       "version_major": 2,
       "version_minor": 0
      },
      "text/plain": [
       "interactive(children=(FloatSlider(value=1.0, description='alpha', max=5.1, min=0.2, step=0.2, style=SliderStyl…"
      ]
     },
     "metadata": {},
     "output_type": "display_data"
    },
    {
     "data": {
      "text/plain": [
       "<function __main__.plot_poisson_pmf(alpha)>"
      ]
     },
     "execution_count": 46,
     "metadata": {},
     "output_type": "execute_result"
    }
   ],
   "source": [
    "import ipywidgets as widgets\n",
    "from ipywidgets import interact\n",
    "\n",
    "pvals = np.arange(0, 11)\n",
    "\n",
    "\n",
    "def plot_poisson_pmf(alpha):\n",
    "    plt.clf()\n",
    "    plt.stem(pvals, stats.poisson.pmf(pvals, mu=alpha), use_line_collection=True)\n",
    "    plt.show()\n",
    "\n",
    "\n",
    "interact(\n",
    "    plot_poisson_pmf,\n",
    "    alpha=widgets.FloatSlider(\n",
    "        min=0.2,\n",
    "        max=5.1,\n",
    "        step=0.2,\n",
    "        value=1,\n",
    "        description=\"alpha\",\n",
    "        style={\"description_width\": \"initial\"},\n",
    "    ),\n",
    ")"
   ]
  },
  {
   "cell_type": "markdown",
   "metadata": {},
   "source": [
    "\n",
    "\n",
    "\n",
    "\n",
    "\n",
    "Basically, we can see that there are three different cases:\n",
    "* For $\\alpha < 1$, the PMF is a strictly decreasing function of its argument,\n",
    "* For $\\alpha =1$, then the PMF is a nonincreasing function of its argument: it has the same value at 0 and 1, and then decreases for all larger values,\n",
    "* For $\\alpha >1$, the PMF first increases and then decreases. If $\\alpha$ is an integer, then the PMF has the same value for arguments $\\alpha$ and $\\alpha-1$."
   ]
  },
  {
   "cell_type": "markdown",
   "metadata": {},
   "source": [
    "Illustrations of the second two cases are shown below:"
   ]
  },
  {
   "cell_type": "code",
   "execution_count": 47,
   "metadata": {
    "tags": []
   },
   "outputs": [
    {
     "data": {
      "text/plain": [
       "Text(0, 0.5, '$p_{P3} (k)$')"
      ]
     },
     "execution_count": 47,
     "metadata": {},
     "output_type": "execute_result"
    },
    {
     "data": {
      "image/png": "[encoded data removed]",
      "text/plain": [
       "<Figure size 576x288 with 2 Axes>"
      ]
     },
     "metadata": {
      "needs_background": "light"
     },
     "output_type": "display_data"
    }
   ],
   "source": [
    "vals = range(10)\n",
    "\n",
    "fig, axes = plt.subplots(1, 2, constrained_layout=True, figsize=(8, 4))\n",
    "\n",
    "\n",
    "P2 = stats.poisson(1)\n",
    "axes[0].stem(vals, P2.pmf(vals), use_line_collection=True)\n",
    "axes[0].set_title(\"alpha=1\")\n",
    "axes[0].set_xlabel(\"$k$\")\n",
    "axes[0].set_ylabel(\"$p_{P2} (k)$\")\n",
    "\n",
    "P3 = stats.poisson(2.5)\n",
    "axes[1].stem(vals, P3.pmf(vals), use_line_collection=True)\n",
    "axes[1].set_title(\"alpha=2.5\")\n",
    "axes[0].set_xlabel(\"$k$\")\n",
    "axes[0].set_ylabel(\"$p_{P3} (k)$\")"
   ]
  },
  {
   "cell_type": "code",
   "execution_count": 48,
   "metadata": {},
   "outputs": [],
   "source": [
    "P4 = stats.poisson(100)"
   ]
  },
  {
   "cell_type": "code",
   "execution_count": 49,
   "metadata": {},
   "outputs": [],
   "source": [
    "p4vals = np.arange(0, 150)"
   ]
  },
  {
   "cell_type": "code",
   "execution_count": 50,
   "metadata": {},
   "outputs": [
    {
     "data": {
      "text/plain": [
       "<StemContainer object of 3 artists>"
      ]
     },
     "execution_count": 50,
     "metadata": {},
     "output_type": "execute_result"
    },
    {
     "data": {
      "image/png": "[encoded data removed]",
      "text/plain": [
       "<Figure size 432x288 with 1 Axes>"
      ]
     },
     "metadata": {
      "needs_background": "light"
     },
     "output_type": "display_data"
    }
   ],
   "source": [
    "plt.stem(p4vals, P4.pmf(p4vals), use_line_collection=True)"
   ]
  },
  {
   "cell_type": "markdown",
   "metadata": {},
   "source": [
    "Interestingly, when the average number of occurrences is large,  we get another bell shape, just as we saw with the binomial random variable."
   ]
  },
  {
   "cell_type": "markdown",
   "metadata": {},
   "source": [
    "Now, let's see how to apply the Poisson random variable to a practical problem.\n",
    "\n",
    "**Example** \n",
    "\n",
    "In this example, we will show how even minimal information provided in a news article can be used to conduct a statistical test when we can apply a model for the data. In the article [Man Bitten in Florida’s ‘Shark Capital of the World’](https://www.theinertia.com/environment/man-bitten-in-floridas-shark-capital-of-the-world/), the town of New Smyrna, Florida is referred to as the “shark capital of the world.”. While mostly focusing on details of a particular shark attack in the beginning of 2022, the article provides the following information about shark bites in the same county in 2021:\n",
    "\n",
    "    According to the International Shark Attack File (ISAF), Volusia county averages nine attacks per year but reported 17 attacks in 2021.\n",
    "\n",
    "The much higher number of shark attacks than the average could either indicate a concerning trend or could be attributable to the randomness in the number of shark attacks that occur in a given year. How can we tell?\n",
    "\n",
    "To try to get an answer to this, we have to first acknowledge that the article provides very little data: other than the number of shark attacks in 2021, we are only given the average number of shark attacks per year. With such limited data, we have two choices: \n",
    "\n",
    "1. We can introduce a model, by which we mean that we assume that the data comes from a particular distribution that can be completely specified using the available information, or\n",
    "1. We can find more detailed data and use that to conduct a statistical test.\n",
    "\n",
    "Let's start with the modeling approach. Our previous discussion of fish may make us think of the Poisson distribution, but in general we can ask several questions to determine whether the Poisson is a reasonable model:\n",
    "* **Is there a specific maximum value that the data can take on? The answer should be no for the Poisson.**  For instance, there is no way to upper bound the number of shark bites that might happen in a given year. \n",
    "* **Do the individal occurrences occur randomly over time or space and can we specify some rate of occurrence for the given data? The answer should be yes. If the rate is not given, we can usually estimate it from the data.**  For the shark bite data, shark bites occur at random times. \n",
    "\n",
    "\n",
    "In this example, we will use approach 1. We assume that the number of shark attacks in Volusia County in a year is Poisson with parameter 9 representing the average number of shark attacks. \n",
    "\n",
    "Let's use Scipy.Stats to create a Poisson object with this paramter:"
   ]
  },
  {
   "cell_type": "code",
   "execution_count": 51,
   "metadata": {},
   "outputs": [],
   "source": [
    "import scipy.stats as stats\n",
    "\n",
    "S = stats.poisson(9)"
   ]
  },
  {
   "cell_type": "markdown",
   "metadata": {},
   "source": [
    "Now we will see how to conduct statistical test using this model. We can set up the following null hypothesis significance test:\n",
    "* $H_0$: the observation comes from the Poisson(9) distribution\n",
    "* $H_1$: the observation comes from some other distribution\n",
    "\n",
    "Let's choose a $p$-value threshold of $0.05$.\n",
    "\n",
    "As before, we do not usually measure the probability of seeing the exact result observed in the data. Instead, we ask about seeing a result that is at least as extreme as this model. In this case, it makes sense to conduct a one-sided test, where we determine the probability of seeing 17 **or more** attacks in a year.\n",
    "\n",
    "Note that $P(S \\ge 17) = P(S> 16)$ allows us to calculate this probability using the survival function:"
   ]
  },
  {
   "cell_type": "code",
   "execution_count": 52,
   "metadata": {},
   "outputs": [
    {
     "data": {
      "text/plain": [
       "0.011105909377583819"
      ]
     },
     "execution_count": 52,
     "metadata": {},
     "output_type": "execute_result"
    }
   ],
   "source": [
    "S.sf(16)"
   ]
  },
  {
   "cell_type": "markdown",
   "metadata": {},
   "source": [
    "This probability is smaller than 0.05, so we reject $H_0$ under this test.\n",
    "\n",
    "However, the article might not have included this information if the result had not seemed significant in the first place. We might instead ask the probabilty of seeing such an extreme result at least once in a decade. We can model this as a binomial random variable with 10 trials, each of which has probability of \"success\" $P(S>16)$. Let's call this binomial random variable $S_2$, and we will create a Scipy.Stats object to represent its distribution:"
   ]
  },
  {
   "cell_type": "code",
   "execution_count": 53,
   "metadata": {},
   "outputs": [],
   "source": [
    "S2 = stats.binom(10, S.sf(16))"
   ]
  },
  {
   "cell_type": "markdown",
   "metadata": {},
   "source": [
    "Then the probability of having at least one year with 17 or more shark attacks in a decade is $P(S_2 >0)$, which is"
   ]
  },
  {
   "cell_type": "code",
   "execution_count": 54,
   "metadata": {},
   "outputs": [
    {
     "data": {
      "text/plain": [
       "0.105669964152784"
      ]
     },
     "execution_count": 54,
     "metadata": {},
     "output_type": "execute_result"
    }
   ],
   "source": [
    "S2.sf(0)"
   ]
  },
  {
   "cell_type": "markdown",
   "metadata": {},
   "source": [
    "Thus there is more than a 10% chance that there is at least one year in a decade with 17 or more shark attacks in Volusia County. Given this, we would not be able to reject the possibility that the 2021 result comes from the Poisson(9) distribution. It may just be attributable to the random nature of the number of shark attacks in a year. "
   ]
  },
  {
   "cell_type": "markdown",
   "metadata": {},
   "source": [
    "Let's use this example to work with one more of our distributions. What is the probability that it is more than 10 years before there is another year with 15 or more shark attacks?\n",
    "\n",
    "We can model the number of years until there is a year with 15 or more shark attacks as a Geometric random variable with probability of \"success\" $P(S>14)$. Let $S_3$ denote this random variable, and we can create a Scipy.Stats object to represent its distribution:"
   ]
  },
  {
   "cell_type": "code",
   "execution_count": 55,
   "metadata": {},
   "outputs": [],
   "source": [
    "S3 = stats.geom(S.sf(14))"
   ]
  },
  {
   "cell_type": "markdown",
   "metadata": {},
   "source": [
    "Then the probability that it is more than 10 years before there is another year with 15 more shark attacks is $P(S_3 > 10)$, which is"
   ]
  },
  {
   "cell_type": "code",
   "execution_count": 56,
   "metadata": {},
   "outputs": [
    {
     "data": {
      "text/plain": [
       "0.6547473480899506"
      ]
     },
     "execution_count": 56,
     "metadata": {},
     "output_type": "execute_result"
    }
   ],
   "source": [
    "S3.sf(10)"
   ]
  },
  {
   "cell_type": "markdown",
   "metadata": {},
   "source": [
    "There is over an 65% chance that we will not have a year with 15 or more shark attacks in the next decade. "
   ]
  },
  {
   "cell_type": "markdown",
   "metadata": {},
   "source": [
    "\n",
    "\n",
    "# Arbitrary Discrete RVs"
   ]
  },
  {
   "cell_type": "markdown",
   "metadata": {},
   "source": [
    "We can create a discrete random variable with an  finite set of integer values  using the `stats.rv_discrete()` method:"
   ]
  },
  {
   "cell_type": "code",
   "execution_count": 57,
   "metadata": {
    "tags": [
     "remove-output"
    ]
   },
   "outputs": [
    {
     "data": {
      "text/plain": [
       "\u001b[0;31mInit signature:\u001b[0m\n",
       "\u001b[0mstats\u001b[0m\u001b[0;34m.\u001b[0m\u001b[0mrv_discrete\u001b[0m\u001b[0;34m(\u001b[0m\u001b[0;34m\u001b[0m\n",
       "\u001b[0;34m\u001b[0m    \u001b[0ma\u001b[0m\u001b[0;34m=\u001b[0m\u001b[0;36m0\u001b[0m\u001b[0;34m,\u001b[0m\u001b[0;34m\u001b[0m\n",
       "\u001b[0;34m\u001b[0m    \u001b[0mb\u001b[0m\u001b[0;34m=\u001b[0m\u001b[0minf\u001b[0m\u001b[0;34m,\u001b[0m\u001b[0;34m\u001b[0m\n",
       "\u001b[0;34m\u001b[0m    \u001b[0mname\u001b[0m\u001b[0;34m=\u001b[0m\u001b[0;32mNone\u001b[0m\u001b[0;34m,\u001b[0m\u001b[0;34m\u001b[0m\n",
       "\u001b[0;34m\u001b[0m    \u001b[0mbadvalue\u001b[0m\u001b[0;34m=\u001b[0m\u001b[0;32mNone\u001b[0m\u001b[0;34m,\u001b[0m\u001b[0;34m\u001b[0m\n",
       "\u001b[0;34m\u001b[0m    \u001b[0mmoment_tol\u001b[0m\u001b[0;34m=\u001b[0m\u001b[0;36m1e-08\u001b[0m\u001b[0;34m,\u001b[0m\u001b[0;34m\u001b[0m\n",
       "\u001b[0;34m\u001b[0m    \u001b[0mvalues\u001b[0m\u001b[0;34m=\u001b[0m\u001b[0;32mNone\u001b[0m\u001b[0;34m,\u001b[0m\u001b[0;34m\u001b[0m\n",
       "\u001b[0;34m\u001b[0m    \u001b[0minc\u001b[0m\u001b[0;34m=\u001b[0m\u001b[0;36m1\u001b[0m\u001b[0;34m,\u001b[0m\u001b[0;34m\u001b[0m\n",
       "\u001b[0;34m\u001b[0m    \u001b[0mlongname\u001b[0m\u001b[0;34m=\u001b[0m\u001b[0;32mNone\u001b[0m\u001b[0;34m,\u001b[0m\u001b[0;34m\u001b[0m\n",
       "\u001b[0;34m\u001b[0m    \u001b[0mshapes\u001b[0m\u001b[0;34m=\u001b[0m\u001b[0;32mNone\u001b[0m\u001b[0;34m,\u001b[0m\u001b[0;34m\u001b[0m\n",
       "\u001b[0;34m\u001b[0m    \u001b[0mextradoc\u001b[0m\u001b[0;34m=\u001b[0m\u001b[0;32mNone\u001b[0m\u001b[0;34m,\u001b[0m\u001b[0;34m\u001b[0m\n",
       "\u001b[0;34m\u001b[0m    \u001b[0mseed\u001b[0m\u001b[0;34m=\u001b[0m\u001b[0;32mNone\u001b[0m\u001b[0;34m,\u001b[0m\u001b[0;34m\u001b[0m\n",
       "\u001b[0;34m\u001b[0m\u001b[0;34m)\u001b[0m\u001b[0;34m\u001b[0m\u001b[0;34m\u001b[0m\u001b[0m\n",
       "\u001b[0;31mDocstring:\u001b[0m     \n",
       "A generic discrete random variable class meant for subclassing.\n",
       "\n",
       "`rv_discrete` is a base class to construct specific distribution classes\n",
       "and instances for discrete random variables. It can also be used\n",
       "to construct an arbitrary distribution defined by a list of support\n",
       "points and corresponding probabilities.\n",
       "\n",
       "Parameters\n",
       "----------\n",
       "a : float, optional\n",
       "    Lower bound of the support of the distribution, default: 0\n",
       "b : float, optional\n",
       "    Upper bound of the support of the distribution, default: plus infinity\n",
       "moment_tol : float, optional\n",
       "    The tolerance for the generic calculation of moments.\n",
       "values : tuple of two array_like, optional\n",
       "    ``(xk, pk)`` where ``xk`` are integers and ``pk`` are the non-zero\n",
       "    probabilities between 0 and 1 with ``sum(pk) = 1``. ``xk``\n",
       "    and ``pk`` must have the same shape.\n",
       "inc : integer, optional\n",
       "    Increment for the support of the distribution.\n",
       "    Default is 1. (other values have not been tested)\n",
       "badvalue : float, optional\n",
       "    The value in a result arrays that indicates a value that for which\n",
       "    some argument restriction is violated, default is np.nan.\n",
       "name : str, optional\n",
       "    The name of the instance. This string is used to construct the default\n",
       "    example for distributions.\n",
       "longname : str, optional\n",
       "    This string is used as part of the first line of the docstring returned\n",
       "    when a subclass has no docstring of its own. Note: `longname` exists\n",
       "    for backwards compatibility, do not use for new subclasses.\n",
       "shapes : str, optional\n",
       "    The shape of the distribution. For example \"m, n\" for a distribution\n",
       "    that takes two integers as the two shape arguments for all its methods\n",
       "    If not provided, shape parameters will be inferred from\n",
       "    the signatures of the private methods, ``_pmf`` and ``_cdf`` of\n",
       "    the instance.\n",
       "extradoc :  str, optional\n",
       "    This string is used as the last part of the docstring returned when a\n",
       "    subclass has no docstring of its own. Note: `extradoc` exists for\n",
       "    backwards compatibility, do not use for new subclasses.\n",
       "seed : {None, int, `numpy.random.Generator`,\n",
       "        `numpy.random.RandomState`}, optional\n",
       "\n",
       "    If `seed` is None (or `np.random`), the `numpy.random.RandomState`\n",
       "    singleton is used.\n",
       "    If `seed` is an int, a new ``RandomState`` instance is used,\n",
       "    seeded with `seed`.\n",
       "    If `seed` is already a ``Generator`` or ``RandomState`` instance then\n",
       "    that instance is used.\n",
       "\n",
       "Methods\n",
       "-------\n",
       "rvs\n",
       "pmf\n",
       "logpmf\n",
       "cdf\n",
       "logcdf\n",
       "sf\n",
       "logsf\n",
       "ppf\n",
       "isf\n",
       "moment\n",
       "stats\n",
       "entropy\n",
       "expect\n",
       "median\n",
       "mean\n",
       "std\n",
       "var\n",
       "interval\n",
       "__call__\n",
       "support\n",
       "\n",
       "Notes\n",
       "-----\n",
       "This class is similar to `rv_continuous`. Whether a shape parameter is\n",
       "valid is decided by an ``_argcheck`` method (which defaults to checking\n",
       "that its arguments are strictly positive.)\n",
       "The main differences are:\n",
       "\n",
       "- the support of the distribution is a set of integers\n",
       "- instead of the probability density function, ``pdf`` (and the\n",
       "  corresponding private ``_pdf``), this class defines the\n",
       "  *probability mass function*, `pmf` (and the corresponding\n",
       "  private ``_pmf``.)\n",
       "- scale parameter is not defined.\n",
       "\n",
       "To create a new discrete distribution, we would do the following:\n",
       "\n",
       ">>> from scipy.stats import rv_discrete\n",
       ">>> class poisson_gen(rv_discrete):\n",
       "...     \"Poisson distribution\"\n",
       "...     def _pmf(self, k, mu):\n",
       "...         return exp(-mu) * mu**k / factorial(k)\n",
       "\n",
       "and create an instance::\n",
       "\n",
       ">>> poisson = poisson_gen(name=\"poisson\")\n",
       "\n",
       "Note that above we defined the Poisson distribution in the standard form.\n",
       "Shifting the distribution can be done by providing the ``loc`` parameter\n",
       "to the methods of the instance. For example, ``poisson.pmf(x, mu, loc)``\n",
       "delegates the work to ``poisson._pmf(x-loc, mu)``.\n",
       "\n",
       "**Discrete distributions from a list of probabilities**\n",
       "\n",
       "Alternatively, you can construct an arbitrary discrete rv defined\n",
       "on a finite set of values ``xk`` with ``Prob{X=xk} = pk`` by using the\n",
       "``values`` keyword argument to the `rv_discrete` constructor.\n",
       "\n",
       "Examples\n",
       "--------\n",
       "Custom made discrete distribution:\n",
       "\n",
       ">>> from scipy import stats\n",
       ">>> xk = np.arange(7)\n",
       ">>> pk = (0.1, 0.2, 0.3, 0.1, 0.1, 0.0, 0.2)\n",
       ">>> custm = stats.rv_discrete(name='custm', values=(xk, pk))\n",
       ">>>\n",
       ">>> import matplotlib.pyplot as plt\n",
       ">>> fig, ax = plt.subplots(1, 1)\n",
       ">>> ax.plot(xk, custm.pmf(xk), 'ro', ms=12, mec='r')\n",
       ">>> ax.vlines(xk, 0, custm.pmf(xk), colors='r', lw=4)\n",
       ">>> plt.show()\n",
       "\n",
       "Random number generation:\n",
       "\n",
       ">>> R = custm.rvs(size=100)\n",
       "\u001b[0;31mFile:\u001b[0m           /Applications/anaconda3/lib/python3.7/site-packages/scipy/stats/_distn_infrastructure.py\n",
       "\u001b[0;31mType:\u001b[0m           type\n",
       "\u001b[0;31mSubclasses:\u001b[0m     rv_sample, binom_gen, betabinom_gen, nbinom_gen, geom_gen, hypergeom_gen, nhypergeom_gen, logser_gen, poisson_gen, planck_gen, ...\n"
      ]
     },
     "metadata": {},
     "output_type": "display_data"
    }
   ],
   "source": [
    "?stats.rv_discrete"
   ]
  },
  {
   "cell_type": "markdown",
   "metadata": {},
   "source": [
    "Note that this method implicitly assumes that the discrete random variable is defined on a subset of the integers. "
   ]
  },
  {
   "cell_type": "markdown",
   "metadata": {},
   "source": [
    "Let's use this method to create a random variable based on Example 3 of {doc}`discrete-rvs`. Note that we need to pass a tuple that includes:\n",
    "* a list or vector containing the random variable's range, and \n",
    "* a list or vector containing the probabilities of each point in the random variable's range."
   ]
  },
  {
   "cell_type": "code",
   "execution_count": 58,
   "metadata": {},
   "outputs": [],
   "source": [
    "range1 = [0, 1, 2]\n",
    "probs1 = [1 / 4, 1 / 2, 1 / 4]"
   ]
  },
  {
   "cell_type": "code",
   "execution_count": 59,
   "metadata": {},
   "outputs": [],
   "source": [
    "A = stats.rv_discrete(values=(range1, probs1))"
   ]
  },
  {
   "cell_type": "markdown",
   "metadata": {},
   "source": [
    "Now we can work with the random variable `A` using the same methods that we used for pre-defined discrete random variables in `scipy.stats`.\n",
    "\n",
    "We will use `A` to demonstrate how to work with such a random variable. If we want to plot the PMF for a random variable created in this way, we can first determine the range of `A`, using `support()` method:"
   ]
  },
  {
   "cell_type": "code",
   "execution_count": 60,
   "metadata": {},
   "outputs": [
    {
     "data": {
      "text/plain": [
       "(0, 2)"
      ]
     },
     "execution_count": 60,
     "metadata": {},
     "output_type": "execute_result"
    }
   ],
   "source": [
    "A.support()"
   ]
  },
  {
   "cell_type": "markdown",
   "metadata": {},
   "source": [
    "\n",
    "If we want to plot the PMF for every value in the support, then we can use `np.arange()` to create a numpy vector of these values. We will capture the outputs of `support()` into  variables `low` and `high`, and we will need to pass `high+1` as the second argument to `np.arange()` because upper values are not included in the created vector:"
   ]
  },
  {
   "cell_type": "code",
   "execution_count": 61,
   "metadata": {},
   "outputs": [
    {
     "name": "stdout",
     "output_type": "stream",
     "text": [
      "[0 1 2]\n"
     ]
    }
   ],
   "source": [
    "low, high = A.support()\n",
    "avals = np.arange(low, high + 1)\n",
    "print(avals)"
   ]
  },
  {
   "cell_type": "code",
   "execution_count": 62,
   "metadata": {},
   "outputs": [
    {
     "data": {
      "image/png": "[encoded data removed]",
      "text/plain": [
       "<Figure size 432x288 with 1 Axes>"
      ]
     },
     "metadata": {
      "needs_background": "light"
     },
     "output_type": "display_data"
    }
   ],
   "source": [
    "plt.stem(avals, A.pmf(avals), use_line_collection=True)\n",
    "plt.xlabel(\"$a$\")\n",
    "plt.ylabel(\"Probability mass function $P_A(a)$\");"
   ]
  },
  {
   "cell_type": "markdown",
   "metadata": {},
   "source": [
    "Let's simulate some random values from this distribution and compute the relative frequencies:"
   ]
  },
  {
   "cell_type": "code",
   "execution_count": 63,
   "metadata": {},
   "outputs": [],
   "source": [
    "num_sims = 100_000\n",
    "a = A.rvs(size=num_sims)"
   ]
  },
  {
   "cell_type": "code",
   "execution_count": 64,
   "metadata": {},
   "outputs": [],
   "source": [
    "avals, counts = np.unique(a, return_counts=True)"
   ]
  },
  {
   "cell_type": "code",
   "execution_count": 65,
   "metadata": {},
   "outputs": [
    {
     "data": {
      "image/png": "[encoded data removed]",
      "text/plain": [
       "<Figure size 432x288 with 1 Axes>"
      ]
     },
     "metadata": {
      "needs_background": "light"
     },
     "output_type": "display_data"
    }
   ],
   "source": [
    "plt.bar(avals, counts / num_sims)\n",
    "plt.grid();"
   ]
  },
  {
   "cell_type": "markdown",
   "metadata": {},
   "source": [
    "As expected, the relative frequencies closely match the probabilities."
   ]
  },
  {
   "cell_type": "markdown",
   "metadata": {},
   "source": [
    "Now, let's compare the analytical CDF to the empirical CDF generated bh `plt.hist()`:"
   ]
  },
  {
   "cell_type": "code",
   "execution_count": 66,
   "metadata": {},
   "outputs": [
    {
     "data": {
      "image/png": "[encoded data removed]",
      "text/plain": [
       "<Figure size 432x288 with 1 Axes>"
      ]
     },
     "metadata": {
      "needs_background": "light"
     },
     "output_type": "display_data"
    }
   ],
   "source": [
    "avals2 = np.linspace(-1, 3, 81)\n",
    "plt.step(avals2, A.cdf(avals2), \"k--\", where=\"post\", alpha=0.5)\n",
    "plt.hist(a, cumulative=True, density=True, bins=[0, 1, 2, 3], alpha=0.25);"
   ]
  },
  {
   "cell_type": "markdown",
   "metadata": {},
   "source": [
    "As expected, the theoretical result (the dashed line) matches the empirical histogram (the shaded region) almost exactly."
   ]
  }
 ],
 "metadata": {
  "kernelspec": {
   "display_name": "Python 3 (ipykernel)",
   "language": "python",
   "name": "python3"
  },
  "language_info": {
   "codemirror_mode": {
    "name": "ipython",
    "version": 3
   },
   "file_extension": ".py",
   "mimetype": "text/x-python",
   "name": "python",
   "nbconvert_exporter": "python",
   "pygments_lexer": "ipython3",
   "version": "3.7.4"
  },
  "latex_envs": {
   "LaTeX_envs_menu_present": true,
   "autoclose": true,
   "autocomplete": true,
   "bibliofile": "biblio.bib",
   "cite_by": "apalike",
   "current_citInitial": 1,
   "eqLabelWithNumbers": true,
   "eqNumInitial": 1,
   "hotkeys": {
    "equation": "Ctrl-E",
    "itemize": "Ctrl-I"
   },
   "labels_anchors": false,
   "latex_user_defs": false,
   "report_style_numbering": false,
   "user_envs_cfg": false
  }
 },
 "nbformat": 4,
 "nbformat_minor": 4
}
