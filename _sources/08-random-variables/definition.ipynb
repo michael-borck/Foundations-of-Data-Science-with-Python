{
 "cells": [
  {
   "cell_type": "markdown",
   "metadata": {},
   "source": [
    "## Definition of a Real Random Variable "
   ]
  },
  {
   "cell_type": "markdown",
   "metadata": {},
   "source": [
    "In the introduction, we provided an informal definition for a random variable. The informal definition is helpful to build some intuition about what we mean by a random variable. However, we want to develop random variables in such a way that we can take advantage of all of the properties of the *probability spaces* that we developed in {doc}`../04-probability1/axiomatic-prob.ipynb`.  In this class, we will only consider the case of **real** random variables, but random variables can also be complex-valued.\n",
    "\n"
   ]
  },
  {
   "cell_type": "markdown",
   "metadata": {
    "tags": []
   },
   "source": [
    "\n",
    "Let's start by introducing some notation that we will use for  random variables and in our discussion below:\n",
    "* We will generally use upper-case (capital) letters to represent a random variable, such as $X$, $Y$, or $Z$. We may choose the letter to represent a particular quantity, such as representing a random time by $T$ or a random rate by $R$. For a generic random variable, we will usually use $X$. \n",
    "* We want to ask about the probability that a random variable's value lies in some set. Until now, we have used $P$ to denote either a probability or a probability measure. We will draw a distinction between these below, where we will write $\\operatorname{Pr}()$ to denote a probability and $P()$ to denote a particular probability measure.\n",
    "* We will have the need to provide notation for an arbitrary value that a random variable may take on. Such a value will be represented by the lower-case version of the letter used to denote the random variable. In other words, we can ask about the probability that the random variable $X$ takes on a value $x$, which we can write as $\\operatorname{P}(X=x)$. In particular, we can define functions this way; for instance, we can create a function of $x$ that returns $\\operatorname{Pr}(X=x)$ for each real $x$, like $p_X(x) = \\operatorname{Pr}(X=x)$.\n",
    "\n",
    "````{warning}\n",
    "\n",
    "Many people learning probability get confused by the notation of using an upper-case letter for a random variable and using a lower-case letter for the value of a random variable. \n",
    "\n",
    "**This confusion is especially bad when it comes to handwritten math because many people use very similar letter styles for both the upper-case and lower-case versions of their letters.** \n",
    "\n",
    "Here are my recommendations to reduce this confusion:\n",
    "* Write your random variables in a *san serif* style. Serifs are decorative strokes at the ends of letters, so write your upper-case letters in a block style without serifs.\n",
    "* Write the lower case versions with curvy *serifs*.\n",
    "\n",
    "Some examples are below:\n",
    "```{image} figs/writing-letters.jpg\n",
    ":alt: Image of handwritten versions of X,Y,Z and x,y,z with upper-case letters drawn without serifs and lower-case letters drawn with curly serifs\n",
    ":width: 300 px\n",
    "```\n",
    "\n",
    "I recommend crossing the stem of the upper-case $Z$ to help distinguish it from the number two.\n",
    "````"
   ]
  },
  {
   "cell_type": "markdown",
   "metadata": {},
   "source": [
    "As mentioned above, we wish to be able to evaluate the probabilities that a random variable takes on certain sets of values. There are several immediate problems:\n",
    "* How can we define a random variable so that we can evaluate the probability that it will take on a set of values in  a way that is consistent with our work on probability.\n",
    "* As in the case of event classes and probability measures, it turns out that we cannot come up with a rule that will assign a meaningful probability to any arbitrary set of values that a random variable might take on. How can we choose reasonable sets of values to assign probability to, and how can we evaluate those probabilities?\n",
    "\n",
    "Our approach may seem a bit strange at first, but it defines random variables in a way that directly leverages our work on probability spaces. Suppose we have a probability space $(S, \\mathcal{F}, P)$, and we want to use the probability measure $P$ from this probability space to determine the probabilities for a random variable $X$.  Then if $B$ is a set of real values, we want to translate $\\operatorname{Pr}(X \\in B)$ to some probability $P(E_B)$, where $E_B \\in \\mathcal{F}$ is an event in our probability space. To achieve this, we must have that the outcomes (which do not have to be numbers) in $E_B$ correspond in some way to the real values in $B$. Since we need to be able to determine what outcomes in $E_B$ correspond to the set of reals $B$, then there must be a **function** that maps from the outcomes in $E_B$ to the real values in $B$.  We define the random variable $X$ as that function: it is a function that maps the outcomes in $S$ to the real line.\n",
    "\n",
    "Formally, we do not write a random variable as $X$ but instead write it as $X(s)$ to indicate that it is a function of an outcome in the sample space. Note also that the function itself **is not random**. In other words, if we know that some particular value $s_1 \\in S$ occurred, then $X(s_1)$ is a deterministic real number."
   ]
  },
  {
   "cell_type": "markdown",
   "metadata": {},
   "source": [
    "```{note}\n",
    "In the discussion below, we get into some very fine details about random variables, and this discussion is more mathematically challenging than is usually included in a book at this level.  I have chosen to include this level of detail for two reasons:\n",
    "1. This careful approach establishes a solid foundation for further study of probability.\n",
    "2. This approach will motivate our use of a particular function in working with random variables. \n",
    "\n",
    "**Do not be concerned if you do no understand every detail of these arguments: in practice, we will use a very pragmatic approach for working with random variables that does not require us to worry about the following details.**\n",
    "```\n",
    "\n",
    "Thinking back to our work on probability spaces, you should recall that we cannot define $P(A)$ for all $A \\subset S$ if $S$ is uncountably infinite. We can only define $P(A)$ if $A \\in \\mathcal{F}$. Thus, we will need to introduce some additional restrictions on $X$ to ensure that the sets of values $B$ for which we define the probability $\\operatorname{Pr}(X \\in B)$ correspond to events $E_B \\in \\mathcal{F}$.  There is no way to create a random variable that ensures that this will be true for every set of real values $B$, so we must introduce a restriction on the sets $B_i \\subset \\mathbb{R}$ for  which we will define $\\operatorname{Pr}(X \\in B_i)$. \n",
    "\n",
    "Let $\\mathcal{B}$ be a set of all of the subsets of $\\mathbb{R}$ for which we will define $\\operatorname{Pr}(X \\in B)$ if $B \\in \\mathcal{B}$.  \n",
    "We want to at least be able to ask questions like what is $\\operatorname{Pr}(X=x)$ and what is $\\operatorname{Pr} \\left\\{X \\in [a,b)\\right\\}$, and we can easily see that we would like to create unions of such sets: for instance, if $X$ represents the value on the top-face of a six-sided die, we may want to determine the probability that the dies is even. If $A$ represents the age of people who have been hospitalized for Covid, we may wish to assess the impact on people outside of the usual working age by  determining the probability that $A$ is less than  18 or greater than or equal to 65.  Thus, we can use the following generalization of the intervals:\n",
    "\n",
    "````{panels}\n",
    "DEFINITION\n",
    "^^^\n",
    "```{glossary}\n",
    "Borel sets (of $\\mathbb{R}$)\n",
    "    The collection of all countable unions, intersections, and complements of intervals.\n",
    "```\n",
    "````\n",
    "\n",
    "```{index} Borel field\n",
    "```\n",
    "```{index} Borel $\\sigma$-algebra\n",
    "```\n",
    "\n",
    "The collection of Borel sets is called the *Borel $\\sigma$-algebra* or the *Borel field* (technically, including the operators $\\cup$ and $\\cap$). For conciseness, we will use the terminology *Borel field* to refer to the collection of Borel sets of $\\mathbb{R}$.  \n",
    "\n",
    "```{note}\n",
    "The Borel field for $\\mathbb{R}$ can be formed from the countable unions, intersections, and complements of the half-open intervals $(-\\infty, x)$ for all $x \\in \\mathbb{R}$.\n",
    "```"
   ]
  },
  {
   "cell_type": "markdown",
   "metadata": {},
   "source": [
    "To be able to define the probability $\\operatorname{Pr}(X \\in B)$ for every Borel set $B$, we must require that if we collect the set of outcomes that result in $X \\in B$, then that set must be an event. In mathematical notation, we require that $\\left\\{s \\left \\vert X(s) \\in B \\right. \\right\\} \\in \\mathcal{F}$.  \n",
    "\n",
    "Putting all of this together, we have our formal definition for a random variable:"
   ]
  },
  {
   "cell_type": "markdown",
   "metadata": {},
   "source": [
    "\n",
    "\n",
    "````{panels}\n",
    "DEFINITION\n",
    "^^^\n",
    "```{glossary}\n",
    "random variable\n",
    "  *(Formal definition)* Let $(S, \\mathcal{F}, P)$ be a probability space. Then a random variable is a *function* that maps from the sample space $S$ to the real line $\\mathbb{R}$, such that if $B$ is in the Borel field for $\\mathbb{R}$, then $\\left\\{s \\left \\vert X(s) \\in B \\right. \\right\\} \\in \\mathcal{F}$.\n",
    "```\n",
    "````\n",
    "\n",
    "Since a random variable is a function, we have the following properties:\n",
    "* A particular outcome $s \\in S$ maps to exactly one value of $X(s)$.\n",
    "* For a particular value $X=x$, there may be multiple values of $s$ for which $X(s) =x$. \n",
    "* For any two different values $x_1 \\ne x_2$, the sets $\\left\\{ s \\left \\vert X(s) = x_1 \\right. \\right\\}$\n",
    "and $\\left\\{ s \\left \\vert X(s) = x_2 \\right. \\right\\}$ are disjoint; otherwise, there must be some outcome $\\tilde{s}$ that belongs to both sets and for which both $X(\\tilde{s})=x_1$  and $X(\\tilde{s})=x_2$. This is not possible if $X(s)$ is a function.\n",
    "\n",
    "\n",
    "One important factor in classifying a random variable, $X$, is based upon the number of values $X$ can take on. Since $X$ is a function of $s$, the set of values that $X$ takes on is called the *range* of $X$:\n",
    "````{panels}\n",
    "DEFINITION\n",
    "^^^\n",
    "```{glossary}\n",
    "range of a random variable\n",
    "    Let $\\left( S, \\mathcal{F}, P \\right)$ be a probability space and let $X(s)$ be a random variable on that space. Then  the *range* (or *image*) of $X(s)$, denoted by $\\operatorname{Range}(X)$ is the set of values that $X(s)$ can take on, which is given by \\begin{equation} \\bigl\\\\{ X(s) \\left \\vert s \\in S \\right.  \\bigr\\\\}. \\end{equation}   \n",
    "```\n",
    "````\n"
   ]
  },
  {
   "cell_type": "raw",
   "metadata": {},
   "source": [
    "```{warning}\n",
    "Note that at this point in our treatment of probability and random variables, it may be tempting to describe the range of $X(s)$ as the \"set of values of $X(s)$ that have nonzero probability\". However, we will soon discover that **this is not true in general**  -- in fact, we will find that there for many of the random variables that  we use, no value has a nonzero probability!\n",
    "```"
   ]
  },
  {
   "cell_type": "markdown",
   "metadata": {},
   "source": [
    "Note that $\\left\\{s \\left \\vert X(s) \\in B \\right. \\right\\}$ defines the set of outcomes that produce a set of values in the range of $X(s)$, so we abbreviate this as $X^{-1}(B)$.\n",
    "\n",
    "Thus, we can write \n",
    "\n",
    "$$\n",
    "\\operatorname{Pr}(X \\in B) = P\\left[ X^{-1} (B) \\right].\n",
    "$$  \n",
    "\n",
    "Since the probability is evaluated using the probability measure $P$, for convenience of notation, will just write $P(X \\in B)$ in the remainder of this book.\n",
    "\n",
    "\n",
    "\n",
    "To help make these ideas more clear, we consider some simple examples. In each example, we show a graphical depiction of the sample space for an experiment with directed arrows that indicate the mapping from the sample space to values of the random variable, which are shown on a number line."
   ]
  },
  {
   "cell_type": "markdown",
   "metadata": {},
   "source": [
    "**Example 1**\n",
    "\n",
    "Let's create a binary random variable that has equal probability of being 0 or 1. Such a random variable can be created using many different probability spaces, but lets pick a simple one that we are already familiar with. We will flip a fair coin. Then $S = \\left\\{H, T \\right\\}$ and\n",
    "\n",
    "$$\n",
    "\\mathcal{F} =2^S = \\bigl\\{ \\emptyset, \\{H\\}, \\{T\\}, \\{H,T\\} \\bigr\\}.\n",
    "$$\n",
    "The probability measure is given by \n",
    "\n",
    "$$\n",
    "P(E) = \n",
    "\\begin{cases}\n",
    "0, & E= \\emptyset \\\\\n",
    "1/2, & E=\\{H\\} \\mbox{ or } E=\\{T\\} \\\\\n",
    "1, & E = \\{H, T \\}\n",
    "\\end{cases}\n",
    "$$\n",
    "\n",
    "We can create our random variable as the function $X(s)$ given by\n",
    "\n",
    "$$\n",
    "X(s) = \n",
    "\\begin{cases}\n",
    "0, & s = T \\\\\n",
    "1, & s = H \\\\\n",
    "\\end{cases}\n",
    "$$\n",
    "\n",
    "The figure below shows this mapping:\n",
    "\n",
    "```{image} figs/binary-rv1.pdf\n",
    ":alt: Image of handwritten versions of X,Y,Z and x,y,z with upper-case letters drawn without serifs and lower-case letters drawn with curly serifs\n",
    ":width: 600px\n",
    "```\n",
    "\n",
    "```{note}\n",
    "\n",
    "This concrete example helps make an important point: \n",
    "\n",
    "A random variable is defined on the sample space -- it is a function whose argument is an **outcome**.  In this case, the argument of the function is either $H$ or $T$.\n",
    "\n",
    "Contrast this with the probability measure, which is defined on the event class -- its argument is an **event**. The probability measure can take as argument any of $\\emptyset, \\{H\\}, \\{T\\}, or \\{H,T\\}$."
   ]
  },
  {
   "cell_type": "markdown",
   "metadata": {},
   "source": [
    "Let's implement our random variable as a function in Python. The function takes an argument which is one of the outcomes $H$ or $T$ and performs the mapping shown above:"
   ]
  },
  {
   "cell_type": "code",
   "execution_count": 17,
   "metadata": {},
   "outputs": [],
   "source": [
    "def X(s):\n",
    "    if s == 'T':\n",
    "        return 0\n",
    "    elif s == 'H':\n",
    "        return 1\n",
    "    else:\n",
    "        raise Exception(\"The Random Variable X only takes inputs H or T\")    "
   ]
  },
  {
   "cell_type": "markdown",
   "metadata": {},
   "source": [
    "Next we will generate an outcome to simulate flipping a fair coin using `random.choice()` as we have before. Start by importing the random library and setting up the sample space:"
   ]
  },
  {
   "cell_type": "code",
   "execution_count": 18,
   "metadata": {},
   "outputs": [],
   "source": [
    "import random\n",
    "sample_space = [ 'H', 'T']"
   ]
  },
  {
   "cell_type": "markdown",
   "metadata": {},
   "source": [
    "Let's draw 10 different random outcomes $s$ from the sample space and output the corresponding value of the random variable:"
   ]
  },
  {
   "cell_type": "code",
   "execution_count": 19,
   "metadata": {},
   "outputs": [
    {
     "name": "stdout",
     "output_type": "stream",
     "text": [
      "0 T 0\n",
      "1 H 1\n",
      "2 H 1\n",
      "3 H 1\n",
      "4 H 1\n",
      "5 H 1\n",
      "6 T 0\n",
      "7 H 1\n",
      "8 T 0\n",
      "9 H 1\n"
     ]
    }
   ],
   "source": [
    "for i in range(10):\n",
    "    s = random.choice(sample_space)\n",
    "    print(i, s, X(s) )"
   ]
  },
  {
   "cell_type": "markdown",
   "metadata": {},
   "source": [
    "Now we demonstrate how we can use the definition of the random variable and the underlying probability measure to evaluate probabilities for the random variable.\n",
    "\n",
    "We start with the simplest case. We wish to find $P[X(s)=0]$, which is illustrated on the number line portion of the diagram below by a green X:\n",
    "```{image} figs/binary-rv1-region1.pdf\n",
    ":alt: \n",
    ":width: 500px\n",
    "```\n",
    "\n",
    "Graphically, we can see that there is exactly one outcome $s \\in S$ for which $X(s)=0$; that is, $X(T)=0$. Mathematically,\n",
    "\\begin{align*}\n",
    "P \\left[ X(s) = 0 \\right] &= P\\left[ X^{-1}(0) \\right] \\\\\n",
    "&= P\\bigl[ \\left\\{T \\right\\} \\bigr] \\\\\n",
    "&= \\frac{1}{2}\n",
    "\\end{align*}\n",
    "\n"
   ]
  },
  {
   "cell_type": "markdown",
   "metadata": {},
   "source": [
    "We can use our Python random variable to estimate this probability by generating a large number of values of the random variable and finding the relative frequency of the value 0:"
   ]
  },
  {
   "cell_type": "code",
   "execution_count": 27,
   "metadata": {},
   "outputs": [
    {
     "name": "stdout",
     "output_type": "stream",
     "text": [
      "Pr( X = 0 ) is approximately 0.5054\n"
     ]
    }
   ],
   "source": [
    "num_sims = 10_000\n",
    "\n",
    "counter=0\n",
    "for sim in range(num_sims):\n",
    "    s = random.choice(sample_space)\n",
    "    x = X(s)\n",
    "    if x == 0:\n",
    "        counter+=1\n",
    "        \n",
    "print(f'Pr( X = 0 ) is approximately {counter/num_sims}')\n"
   ]
  },
  {
   "cell_type": "markdown",
   "metadata": {},
   "source": [
    "Now lets consider $P(X \\le -0.5)$, which is shown by the green line below. The square brace at the point 0.5 indicates that the point 0.5 is included in the region, and the arrow indicates that the region continues to $-\\infty$. We could write an equivalent form for this probability as $P( X \\in (-\\infty, -0.5]$.\n",
    "```{image} figs/binary-rv1-region2.pdf\n",
    ":alt: \n",
    ":width: 500px\n",
    "```"
   ]
  },
  {
   "cell_type": "markdown",
   "metadata": {},
   "source": [
    "This region introduces an important concept: **we are not constrained to ask only about the probability of points in the range of $X(s)$. We can ask about the probability of any Borel set of $\\mathbb{R}$.**\n",
    "\n",
    "However, for this region, we can see that there are no points in $S$ that yield any values of $X(s)$ in $(-\\infty, -0.5]$. Thus, $P\\left[ X(s) \\le -0.5 \\right] = P\\left[ \\emptyset \\right] = 0$\n",
    "\n",
    "Next consider $P(0 < X \\le 1)$, which is shown below. The parenthesis at the point 0 indicates that it is not a part of this region. We may also write this probability as $P\\left[ X \\in (0, 1] \\right]$.\n",
    "```{image} figs/binary-rv1-region3.pdf\n",
    ":alt: \n",
    ":width: 500px\n",
    "```\n",
    "As illustrated in the figure by the green line and the green shading on the point $H$ in $S$, there is again only one $s \\in S$ that gives a value of $0 < X \\le 1$. So, in this case, $P\\left[ 0 < X \\le 1 \\right] = P\\left[ \\left\\{H \\right\\} \\right] =1/2$.\n",
    "\n",
    "To simulate this probability, we will need to rewrite the condition $0 < X \\le 1$ into a form that more directly translates to Python. Note that this form is really a shorthand for two conditions: \n",
    "* the left-hand side of the inequality is $0< X$, but we more commonly flip that relation to write $X>0$ when writing a single inequality, and\n",
    "* the right-hand side of the inequality is $ X \\le 1$. \n",
    "We are asking about the probability for values of $X$ that satisify both of these inequalities, so we may also write $ X> 0 \\cap X \\le 1$\n",
    "\n",
    "A simulation to estimate the probability of $X$ satisfying these condition is shown below:"
   ]
  },
  {
   "cell_type": "code",
   "execution_count": 26,
   "metadata": {},
   "outputs": [
    {
     "name": "stdout",
     "output_type": "stream",
     "text": [
      "Pr( 0 < X <= 1 ) is approximately 0.5028\n"
     ]
    }
   ],
   "source": [
    "num_sims = 10_000\n",
    "\n",
    "counter=0\n",
    "for sim in range(num_sims):\n",
    "    s = random.choice(sample_space)\n",
    "    x = X(s)\n",
    "    if x >0 and x <= 1:\n",
    "        counter+=1\n",
    "        \n",
    "print(f'Pr( 0 < X <= 1 ) is approximately {counter/num_sims}')\n",
    "\n"
   ]
  },
  {
   "cell_type": "markdown",
   "metadata": {},
   "source": [
    "\n",
    "We consider one final probability for this random variable, $P( x < 1.5)$, which is illustrated in the figure below. \n",
    "```{image} figs/binary-rv1-region4.pdf\n",
    ":alt: \n",
    ":width: 500px\n",
    "```\n",
    "\n",
    "In this case, there are two different values of $s \\in S$ such that $X(s) < 1.5$. In particular, $X(T) =0 < 1.5$ and $X(H)=1 < 1.5$. If we let $B=(-\\infty, 1.5)$, then $X^{-1} (B) = \\left\\{H, T \\right\\}$, and $P(X < 1.5) = P\\left[ X \\in B \\right] = \\left[ X^{-1}(B) \\right] = P\\left[ \\left\\{H, T \\right\\} \\right] =1$."
   ]
  },
  {
   "cell_type": "markdown",
   "metadata": {},
   "source": [
    "**Example 2**\n",
    "\n",
    "Let's create a binary RV $Y$ from tossing a fair coin twice. We will use the following rule: the random variable is 1 if at least one heads occurs; otherwise it is 0. Mathematically, we write the definition of $X(s)$ as\n",
    "\n",
    "$$\n",
    "Y(s)  = \n",
    "\\begin{cases}\n",
    "0, & s = TT \\\\\n",
    "1, & s \\in \\left\\{HH, HT, TH \\right\\}\n",
    "\\end{cases}\n",
    "$$\n",
    "\n",
    "Pictorially, this relation is shown below, where all of the points within the blue region of $S$ are mapped to 1.\n",
    "```{image} figs/binary-rv2.pdf\n",
    ":alt: \n",
    ":width: 600px\n",
    "```\n",
    "\n",
    "From the figure and mathematical definition of $Y(s)$, we can see that $Y^{-1}(0) = \\left\\{TT \\right\\}$ and $Y^{-1}(1) = \\left\\{HH, HT, TH \\right\\}$. This is our first example where we see that multiple $s$ can map to the same value of a random variable. Thus even if we ask an equation like $P\\left[Y(s)=y \\right]$, the underlying event may contain multiple outcomes, as in this case. Given that the coin is fair, it is easy to see that the probability of each outcome is 1/4, so $P\\left[ Y(s) = 0 \\right] = 1/4$ and $P \\left[ Y(s) =1 \\right] = 3/4$. This is our first example of a random variable with unequal probabilities, and it was built from a fair experiment, in which each outcome has an equal probability of occurring."
   ]
  },
  {
   "cell_type": "markdown",
   "metadata": {},
   "source": [
    "Now, let's implement $Y$ as a function in Python. We will draw two values of the coin using `random.choices()`, which will return a list, so we will build the function `Y()` accordingly:"
   ]
  },
  {
   "cell_type": "code",
   "execution_count": 36,
   "metadata": {},
   "outputs": [],
   "source": [
    "def Y(s):\n",
    "    if s == ['T', 'T']:\n",
    "        return 0\n",
    "    elif s in [ ['T', 'H'], ['H', 'T'], ['H', 'H'] ]:\n",
    "        return 1\n",
    "    else:\n",
    "        raise Exception('Must input a list of two elements, each of which may be either \"H\" or \"T\"')"
   ]
  },
  {
   "cell_type": "markdown",
   "metadata": {},
   "source": [
    "Now let's estimate the probability that $Y=1$ via simulation:"
   ]
  },
  {
   "cell_type": "code",
   "execution_count": 38,
   "metadata": {},
   "outputs": [
    {
     "name": "stdout",
     "output_type": "stream",
     "text": [
      "P(Y=1) is approximately 0.7562\n"
     ]
    }
   ],
   "source": [
    "num_sims = 10_000\n",
    "\n",
    "sample_space = ['H', 'T']\n",
    "counter=0\n",
    "for sim in range(num_sims):\n",
    "    s = random.choices(sample_space, k=2)\n",
    "    y = Y(s)\n",
    "    if y == 1:\n",
    "        counter+=1\n",
    "        \n",
    "print(f'P(Y=1) is approximately {counter/num_sims}')\n",
    "    "
   ]
  },
  {
   "cell_type": "markdown",
   "metadata": {},
   "source": [
    "**Example 3**\n",
    "\n",
    "Let's create another RV $Z$ using the same probability space as the last experiment; i.e., define $Z(s)$ using the same outcome. Let $Z$ be the number of heads that occurred. Then the mathematical definition of $Z(s)$ is given by\n",
    "\n",
    "$$\n",
    "Z(s) =\n",
    "\\begin{cases} \n",
    "0, & s = TT \\\\\n",
    "1, & s \\in \\{HT, TH\\} \\\\\n",
    "2, & s = HH.\n",
    "\\end{cases}\n",
    "$$\n",
    "\n",
    "We can depict this relationship graphically below:\n",
    "```{image} figs/example-rv3.pdf\n",
    ":alt: \n",
    ":width: 700px\n",
    "```\n",
    "\n",
    "Note that even though $Z$ is created from the same probability space, it takes on a different set of values and is not even a binary random variable. The point probabilities $P(Z=z)$ are easy to find:\n",
    "\n",
    "\\begin{align}\n",
    "P(Z = 0) &= P( \\{TT\\} ) = 1/4 \\\\\n",
    "P(Z = 1) &= P( \\{TH, HT\\} ) = 1/2 \\\\\n",
    "P(Z = 2) & = P( \\{HH\\} ) = 1/4 \\\\\n",
    "P(Z =z) &  = 0 \\mbox{ if }  z \\notin \\{0,1,2 \\}.\n",
    "\\end{align}\n",
    "\n",
    "Consider an example of what can happen when $Y(s)$ and $Z(s)$ are created from the same outcome. If you are given no information about $Y$, then we can see from above that $P(Z=0) = 1/4$.  Now suppose I told you that $Y=0$. From above, we see that $Y^{-1}(0) = TT $ and $Z(TT) = 0$. So we know that $Z=0$ with probability 1. Thus $Y$ and $Z$ are dependent random variables -- we haven't defined exactly what this means yet mathematically, but we can see that they are dependent by this example. "
   ]
  },
  {
   "cell_type": "markdown",
   "metadata": {},
   "source": [
    "To illustrate this concept, we implement the random variable $Z$ as a function and conduct a simulation to estimate $P(Z=0)$ and $P(Z=0|Y=0)$, which corresponds to the description above that \"I told you $Y=0$\". "
   ]
  },
  {
   "cell_type": "code",
   "execution_count": 41,
   "metadata": {},
   "outputs": [],
   "source": [
    "def Z(s):\n",
    "    if s == ['T', 'T']:\n",
    "        return 0\n",
    "    elif s in [ ['T', 'H'], ['H', 'T']]:\n",
    "        return 1\n",
    "    elif s == ['H', 'H']:\n",
    "        return 1\n",
    "    else:\n",
    "        raise Exception('Must input a list of two elements, each of which may be either \"H\" or \"T\"')"
   ]
  },
  {
   "cell_type": "code",
   "execution_count": 42,
   "metadata": {},
   "outputs": [
    {
     "name": "stdout",
     "output_type": "stream",
     "text": [
      "P(Z=0) is approximately 0.2512\n",
      "P(Z=0|Y=0) is approximately 1.0\n"
     ]
    }
   ],
   "source": [
    "num_sims=100_000\n",
    "\n",
    "count_z0 = 0\n",
    "count_y0 = 0\n",
    "count_z0_y0 = 0\n",
    "\n",
    "for sim in range(num_sims):\n",
    "    s = random.choices(sample_space, k=2)\n",
    "    y = Y(s)\n",
    "    z = Z(s)\n",
    "    \n",
    "    if z == 0:\n",
    "        count_z0 += 1\n",
    "    if y == 0:\n",
    "        count_y0 += 1\n",
    "        if z == 0:\n",
    "            count_z0_y0 += 1\n",
    "            \n",
    "print(f'P(Z=0) is approximately {count_z0/num_sims}')\n",
    "print(f'P(Z=0|Y=0) is approximately {count_z0_y0/count_y0}')\n",
    "      "
   ]
  },
  {
   "cell_type": "markdown",
   "metadata": {},
   "source": [
    "As expected, these values closely match the results of our analysis."
   ]
  },
  {
   "cell_type": "markdown",
   "metadata": {},
   "source": [
    "**JMS: Add JupyterQuiz questions about probabilities on ranges of this random variable to help students check understanding of this material.**"
   ]
  },
  {
   "cell_type": "markdown",
   "metadata": {},
   "source": [
    "All of these examples use discrete sample spaces, and the ranges of the random variables are all discrete, finite sets. These are called *discrete random variables*.The true power of working with random variables will be for the cases where these sets are uncountably infinite. However, before we get to those cases, the next section introduces some tools for working with discrete random variables and some common types of discrete random variables."
   ]
  }
 ],
 "metadata": {
  "kernelspec": {
   "display_name": "Python 3 (ipykernel)",
   "language": "python",
   "name": "python3"
  },
  "language_info": {
   "codemirror_mode": {
    "name": "ipython",
    "version": 3
   },
   "file_extension": ".py",
   "mimetype": "text/x-python",
   "name": "python",
   "nbconvert_exporter": "python",
   "pygments_lexer": "ipython3",
   "version": "3.7.4"
  },
  "latex_envs": {
   "LaTeX_envs_menu_present": true,
   "autoclose": true,
   "autocomplete": true,
   "bibliofile": "biblio.bib",
   "cite_by": "apalike",
   "current_citInitial": 1,
   "eqLabelWithNumbers": true,
   "eqNumInitial": 1,
   "hotkeys": {
    "equation": "Ctrl-E",
    "itemize": "Ctrl-I"
   },
   "labels_anchors": false,
   "latex_user_defs": false,
   "report_style_numbering": false,
   "user_envs_cfg": false
  }
 },
 "nbformat": 4,
 "nbformat_minor": 4
}
